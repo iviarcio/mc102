{
 "cells": [
  {
   "cell_type": "markdown",
   "metadata": {},
   "source": [
    "# Exercícios de Revisão 1"
   ]
  },
  {
   "cell_type": "markdown",
   "metadata": {},
   "source": [
    "**Questão 1:** Escreva um programa que, dada uma seqüência de N inteiros fornecidos\n",
    "pelo usuário, determina se esta seqüência está em ordem crescente. Leia todos\n",
    "os números antes de exibir a resposta. Veja os exemplos abaixo:\n",
    "\n",
    "  Exemplo 1:\n",
    "  ```\n",
    "  N: 7\n",
    "  1 5 8 2 17 21 53\n",
    "  Não está em ordem crescente.\n",
    "  ```\n",
    "  Exemplo 2:\n",
    "  ```\n",
    "  N: 7\n",
    "  3 5 10 16 24 32 61\n",
    "  Ordem crescente.\n",
    "  ```"
   ]
  },
  {
   "cell_type": "code",
   "execution_count": null,
   "metadata": {},
   "outputs": [],
   "source": []
  },
  {
   "cell_type": "markdown",
   "metadata": {},
   "source": [
    "**Questão 2:** Escreva um programa que imprime, em ordem crescente, os números\n",
    "ímpares menores ou iguais a um valor N fornecido pelo usuário. Veja o exemplo\n",
    "abaixo:\n",
    "```\n",
    "  N: 7\n",
    "  1\n",
    "  3\n",
    "  5\n",
    "  7\n",
    "```"
   ]
  },
  {
   "cell_type": "code",
   "execution_count": null,
   "metadata": {},
   "outputs": [],
   "source": []
  },
  {
   "cell_type": "markdown",
   "metadata": {},
   "source": [
    "**Questão 3:** Escreva um programa que calcule um conceito (A, B, C, D ou E) de\n",
    "acordo com o valor da nota de um aluno.\n",
    "```\n",
    "  A -- se 8.5 <= nota <= 10\n",
    "  B -- se 7.0 <= nota < 8.5\n",
    "  C -- se 5.0 <= nota < 7.0\n",
    "  D -- se 3.0 <= nota < 5.0\n",
    "  E -- se 0.0 <= nota < 3.0\n",
    "```"
   ]
  },
  {
   "cell_type": "code",
   "execution_count": null,
   "metadata": {},
   "outputs": [],
   "source": []
  },
  {
   "cell_type": "markdown",
   "metadata": {},
   "source": [
    "**Questão 4:** Escreva a saída dos programas abaixo:\n",
    "\n",
    "(a)\n",
    "```\n",
    "for i in range(4):\n",
    "    for j in range(4 - i):\n",
    "        print(\"+\", sep=\"\")\n",
    "    for j in range(2 * i):\n",
    "        print(\"-\", sep=\"\")\n",
    "    for j in range(4 - i):\n",
    "        print(\"+\", sep=\"\")\n",
    "    print()\n",
    "```\n",
    "(b)\n",
    "```\n",
    "for i in range(5):\n",
    "    for j in range(i):\n",
    "        print(\"-\", end=\"\")\n",
    "    for j in range(5 - i):\n",
    "        print(\"+\", end=\"\")\n",
    "    print()\n",
    "```"
   ]
  },
  {
   "cell_type": "code",
   "execution_count": null,
   "metadata": {},
   "outputs": [],
   "source": []
  },
  {
   "cell_type": "markdown",
   "metadata": {},
   "source": [
    "**Questão 5:** Escreva um programa que leia o comprimento dos lados a, b e c de um\n",
    "triângulo, calcule o seu perímetro e verifique se este triângulo é ou não\n",
    "eqüilátero. Exemplo:\n",
    "```\n",
    "  a: 10\n",
    "  b: 8\n",
    "  c: 10\n",
    "  Perimetro: 28\n",
    "  O triangulo nao é equilatero.\n",
    "```"
   ]
  },
  {
   "cell_type": "code",
   "execution_count": null,
   "metadata": {},
   "outputs": [],
   "source": []
  },
  {
   "cell_type": "markdown",
   "metadata": {},
   "source": [
    "**Questão 6:** Escreva um programa para calcular o valor de x na série abaixo, para\n",
    "um valor de N, fornecido pelo usuário:\n",
    "```\n",
    "  x = 1 - 1/2 + 1/4 - 1/6 + ... + 1/N , N >= 2\n",
    "```"
   ]
  },
  {
   "cell_type": "code",
   "execution_count": null,
   "metadata": {},
   "outputs": [],
   "source": []
  },
  {
   "cell_type": "markdown",
   "metadata": {},
   "source": [
    "**Questão 7:** Escreva um programa que leia uma seqüência de N valores inteiros\n",
    "fornecidos pelo usuário e imprima o número de valores positivos, de valores\n",
    "negativos e de zeros."
   ]
  },
  {
   "cell_type": "code",
   "execution_count": null,
   "metadata": {},
   "outputs": [],
   "source": []
  },
  {
   "cell_type": "markdown",
   "metadata": {},
   "source": [
    "**Questão 8:** Escreva um programa que leia um inteiro n ≥ 1 e uma sequência de n\n",
    "números inteiros, e imprima o número de subidas na mesma.  Por subida\n",
    "entenda-se um elemento da sequência que seja estritamente maior que o elemento\n",
    "imediatamente anterior. Por exemplo, a sequência\n",
    "```\n",
    "  1, 2, 1, 4, 2, 1, 3, 3, 3, 1\n",
    "     -     -        -\n",
    "```\n",
    "tem exatamente três subidas (os elementos sublinhados)"
   ]
  },
  {
   "cell_type": "code",
   "execution_count": null,
   "metadata": {},
   "outputs": [],
   "source": []
  },
  {
   "cell_type": "markdown",
   "metadata": {},
   "source": [
    "**Questão 9:** Faça um programa que imprima todos os números primos < 1000 que\n",
    "sejam terminados por 7 ou por 9."
   ]
  },
  {
   "cell_type": "code",
   "execution_count": null,
   "metadata": {},
   "outputs": [],
   "source": []
  },
  {
   "cell_type": "markdown",
   "metadata": {},
   "source": [
    "**Questão 10:** Faça um programa que dados 2 números inteiros a, b > 0, imprime o\n",
    "MDC destes números."
   ]
  },
  {
   "cell_type": "code",
   "execution_count": null,
   "metadata": {},
   "outputs": [],
   "source": []
  },
  {
   "cell_type": "markdown",
   "metadata": {},
   "source": [
    "**Questão 11:** Faça um programa que leia um número indeterminado de valores, correspondentes a notas, encerrando a entrada de dados quando for informado um valor igual a -1 (que não deve ser armazenado). Após esta entrada de dados,\n",
    "\n",
    "- Mostre a quantidade de valores que foram lidos;\n",
    "- Exiba todos os valores na ordem em que foram informados, um ao lado do outro;\n",
    "- Calcule e mostre a soma dos valores;\n",
    "- Calcule e mostre a média dos valores;\n",
    "- Calcule e mostre a quantidade de valores acima da média calculada;\n",
    "- Calcule e mostre a quantidade de valores abaixo de sete (7.0);\n",
    "- Encerre o programa com uma mensagem."
   ]
  },
  {
   "cell_type": "code",
   "execution_count": null,
   "metadata": {},
   "outputs": [],
   "source": []
  },
  {
   "cell_type": "markdown",
   "metadata": {},
   "source": [
    "**Questão 12:** Faça um programa que simule um lançamento de dados. Lance o dado 100 vezes e armazene os resultados em uma lista. Depois, mostre quantas vezes cada valor foi conseguido. Dica: use uma lista de contadores(1-6) e uma função para gerar numeros aleatórios, simulando os lançamentos dos dados."
   ]
  },
  {
   "cell_type": "code",
   "execution_count": null,
   "metadata": {},
   "outputs": [],
   "source": []
  },
  {
   "cell_type": "markdown",
   "metadata": {},
   "source": [
    "**Questão 13:** Faça um Programa que leia dois vetores (listas) com 10 elementos cada. Gere um terceiro vetor de 20 elementos, cujos valores deverão ser compostos pelos elementos intercalados dos dois outros vetores."
   ]
  },
  {
   "cell_type": "code",
   "execution_count": null,
   "metadata": {},
   "outputs": [],
   "source": []
  },
  {
   "cell_type": "markdown",
   "metadata": {},
   "source": [
    "**Questão 14:** Desenvolva um jogo da forca. O programa terá uma lista de 20 palavras lidas de um arquivo texto e escolherá uma aleatoriamente. O jogador poderá errar 6 vezes antes de ser enforcado.\n",
    "```\n",
    "Digite uma letra: A\n",
    "-> Você errou pela 1ª vez. Tente de novo!\n",
    "\n",
    "Digite uma letra: O\n",
    "A palavra é: _ _ _ _ O\n",
    "\n",
    "Digite uma letra: E\n",
    "A palavra é: _ E _ _ O\n",
    "\n",
    "Digite uma letra: S\n",
    "-> Você errou pela 2ª vez. Tente de novo!\n",
    "```"
   ]
  },
  {
   "cell_type": "code",
   "execution_count": null,
   "metadata": {},
   "outputs": [],
   "source": []
  },
  {
   "cell_type": "markdown",
   "metadata": {},
   "source": [
    "**Questão 15:** O sistema de cifras romanas é escrito com determinadas letras, que representam os números.\n",
    "As letras são sempre maiúsculas e o Zero não é representado. Escreva um programa para transformar um número inteiro < 4000 em romano"
   ]
  },
  {
   "cell_type": "code",
   "execution_count": null,
   "metadata": {},
   "outputs": [],
   "source": []
  },
  {
   "cell_type": "markdown",
   "metadata": {},
   "source": [
    "**Questão 16:** Se listarmos todos os números naturais abaixo de 10 que são múltiplos de 3 ou 5, obtemos 3, 5, 6 e 9. A soma desses múltiplos é 23.\n",
    "\n",
    "Encontre a soma de todos os múltiplos de 3 ou 5 abaixo de 1000."
   ]
  },
  {
   "cell_type": "code",
   "execution_count": null,
   "metadata": {},
   "outputs": [],
   "source": []
  },
  {
   "cell_type": "markdown",
   "metadata": {},
   "source": [
    "**Questão 17:** A \"Fatoração por números primos\" é descobrir quais números primos se multiplicam para formar o número original. Um número primo só pode ser dividido por 1 ou por si mesmo. Todos os outros números inteiros podem ser divididos em fatores de números primos. É como se os números primos fossem os blocos básicos de todos os números.\n",
    "Os fatores primos de 13195 são 5, 7, 13 e 29. Escreva um programa para encontrar o maior fator primo de um dado número."
   ]
  },
  {
   "cell_type": "code",
   "execution_count": null,
   "metadata": {},
   "outputs": [],
   "source": []
  },
  {
   "cell_type": "markdown",
   "metadata": {},
   "source": [
    "**Questão 18:** Dizemos que uma matriz quadrada inteira é um quadrado mágico se a soma dos elementos de cada linha, a soma dos elementos de cada coluna e a soma dos elementos das diagonais principal e secundária são todas iguais.\n",
    "\n",
    "Exemplo: A matriz\n",
    "```\n",
    "    [[8, 0, 7]\n",
    "     [4, 5, 6]\n",
    "     [3, 10, 2]]\n",
    "```\n",
    "é um quadrado mágico. Dada uma matriz quadrada $A_{nxn}$ , verificar se $A$ é um quadrado mágico. "
   ]
  },
  {
   "cell_type": "code",
   "execution_count": null,
   "metadata": {},
   "outputs": [],
   "source": []
  },
  {
   "cell_type": "markdown",
   "metadata": {},
   "source": [
    "**Questão 19:** Escreva uma função **sumall** que recebe qualquer número de argumentos (inteiros ou floats) e retorna a soma deles."
   ]
  },
  {
   "cell_type": "code",
   "execution_count": null,
   "metadata": {},
   "outputs": [],
   "source": []
  },
  {
   "cell_type": "markdown",
   "metadata": {},
   "source": [
    "**Questão 20:** Dado uma string, se o seu comprimento for pelo menos 3, adicione 'ing' ao final. Caso já termine em 'ing' adicionar \"ly\". Se o comprimento da string for inferior a 3, deixe-o inalterado. Exemplos:\n",
    "```\n",
    "'hail' resulta em 'hailing'\n",
    "'swiming' resulta em 'swimingly'\n",
    "'do' resulta em 'do'\n",
    "```"
   ]
  },
  {
   "cell_type": "code",
   "execution_count": null,
   "metadata": {},
   "outputs": [],
   "source": []
  },
  {
   "cell_type": "markdown",
   "metadata": {},
   "source": [
    "**Questão 21:** Dado uma string, procurar a primeira ocorrência da substring 'not' e 'bad'. Se 'bad' vier após o 'not', substituir todo o trecho \"not ... bad\" por 'good'. Exemplos:\n",
    "```\n",
    "'This movie is not so bad' resulta em 'This movie is good'\n",
    "'This dinner is not that bad!' resulta em 'This dinner is good!'\n",
    "'This tea is not hot' resulta em 'This tea is not hot'\n",
    "```"
   ]
  },
  {
   "cell_type": "code",
   "execution_count": null,
   "metadata": {},
   "outputs": [],
   "source": []
  },
  {
   "cell_type": "markdown",
   "metadata": {},
   "source": [
    "**Questão 22:** Dado uma string `s`, retornar uma string onde todas as ocorrências de seu primeiro caractere seja alterado para '*', exceto o primeiro caracter. Exemplo:\n",
    "```\n",
    "babble ---> ba**le\n",
    "```\n",
    "Presuma que o tamanho da string seja 1 ou mais. Dica: s.replace (strA, strB) retorna uma versão da string s com strB no lugar de strA."
   ]
  },
  {
   "cell_type": "code",
   "execution_count": null,
   "metadata": {},
   "outputs": [],
   "source": []
  },
  {
   "cell_type": "markdown",
   "metadata": {},
   "source": [
    "**Questão 23:** # Dado uma lista de números, retorne uma lista onde todo elemento adjacente e repetido será deletado reduzindo a um único elemento. Por exemplo:\n",
    "```\n",
    "[1, 2, 2, 3] deve retornar [1, 2, 3]\n",
    "porém\n",
    "[1, 2, 3, 2, 3] deve retornar [1, 2, 3, 2, 3]\n",
    "\n",
    "```"
   ]
  },
  {
   "cell_type": "code",
   "execution_count": null,
   "metadata": {},
   "outputs": [],
   "source": []
  }
 ],
 "metadata": {
  "kernelspec": {
   "display_name": "Python 3 (ipykernel)",
   "language": "python",
   "name": "python3"
  },
  "language_info": {
   "codemirror_mode": {
    "name": "ipython",
    "version": 3
   },
   "file_extension": ".py",
   "mimetype": "text/x-python",
   "name": "python",
   "nbconvert_exporter": "python",
   "pygments_lexer": "ipython3",
   "version": "3.13.2"
  },
  "latex_envs": {
   "LaTeX_envs_menu_present": true,
   "autoclose": false,
   "autocomplete": true,
   "bibliofile": "biblio.bib",
   "cite_by": "apalike",
   "current_citInitial": 1,
   "eqLabelWithNumbers": true,
   "eqNumInitial": 1,
   "hotkeys": {
    "equation": "Ctrl-E",
    "itemize": "Ctrl-I"
   },
   "labels_anchors": false,
   "latex_user_defs": false,
   "report_style_numbering": false,
   "user_envs_cfg": false
  },
  "toc": {
   "nav_menu": {},
   "number_sections": true,
   "sideBar": true,
   "skip_h1_title": false,
   "toc_cell": false,
   "toc_position": {},
   "toc_section_display": "block",
   "toc_window_display": false
  }
 },
 "nbformat": 4,
 "nbformat_minor": 4
}
