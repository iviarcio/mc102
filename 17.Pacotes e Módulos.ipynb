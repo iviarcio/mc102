{
 "cells": [
  {
   "cell_type": "markdown",
   "metadata": {
    "slideshow": {
     "slide_type": "skip"
    },
    "toc": true
   },
   "source": [
    "<h1>Table of Contents<span class=\"tocSkip\"></span></h1>\n",
    "<div class=\"toc\"><ul class=\"toc-item\"><li><span><a href=\"#Reuso-de-Código\" data-toc-modified-id=\"Reuso-de-Código-1\"><span class=\"toc-item-num\">1&nbsp;&nbsp;</span>Reuso de Código</a></span><ul class=\"toc-item\"><li><span><a href=\"#Pacotes-e-Módulos\" data-toc-modified-id=\"Pacotes-e-Módulos-1.1\"><span class=\"toc-item-num\">1.1&nbsp;&nbsp;</span>Pacotes e Módulos</a></span></li><li><span><a href=\"#Um-pouco-sobre-pacotes\" data-toc-modified-id=\"Um-pouco-sobre-pacotes-1.2\"><span class=\"toc-item-num\">1.2&nbsp;&nbsp;</span>Um pouco sobre pacotes</a></span></li><li><span><a href=\"#Localizando-Módulos\" data-toc-modified-id=\"Localizando-Módulos-1.3\"><span class=\"toc-item-num\">1.3&nbsp;&nbsp;</span>Localizando Módulos</a></span></li></ul></li><li><span><a href=\"#Módulos-personalizados\" data-toc-modified-id=\"Módulos-personalizados-2\"><span class=\"toc-item-num\">2&nbsp;&nbsp;</span>Módulos personalizados</a></span><ul class=\"toc-item\"><li><span><a href=\"#O-módulo-vector.py\" data-toc-modified-id=\"O-módulo-vector.py-2.1\"><span class=\"toc-item-num\">2.1&nbsp;&nbsp;</span>O módulo vector.py</a></span><ul class=\"toc-item\"><li><span><a href=\"#Vector-Add\" data-toc-modified-id=\"Vector-Add-2.1.1\"><span class=\"toc-item-num\">2.1.1&nbsp;&nbsp;</span>Vector Add</a></span></li><li><span><a href=\"#Vector-Subtraction\" data-toc-modified-id=\"Vector-Subtraction-2.1.2\"><span class=\"toc-item-num\">2.1.2&nbsp;&nbsp;</span>Vector Subtraction</a></span></li><li><span><a href=\"#Vector-Multiplication\" data-toc-modified-id=\"Vector-Multiplication-2.1.3\"><span class=\"toc-item-num\">2.1.3&nbsp;&nbsp;</span>Vector Multiplication</a></span></li><li><span><a href=\"#Vector-Division\" data-toc-modified-id=\"Vector-Division-2.1.4\"><span class=\"toc-item-num\">2.1.4&nbsp;&nbsp;</span>Vector Division</a></span></li><li><span><a href=\"#Vector-Magnitude\" data-toc-modified-id=\"Vector-Magnitude-2.1.5\"><span class=\"toc-item-num\">2.1.5&nbsp;&nbsp;</span>Vector Magnitude</a></span></li><li><span><a href=\"#Vector-Normalization\" data-toc-modified-id=\"Vector-Normalization-2.1.6\"><span class=\"toc-item-num\">2.1.6&nbsp;&nbsp;</span>Vector Normalization</a></span></li></ul></li><li><span><a href=\"#A-Classe-Vector\" data-toc-modified-id=\"A-Classe-Vector-2.2\"><span class=\"toc-item-num\">2.2&nbsp;&nbsp;</span>A Classe Vector</a></span></li><li><span><a href=\"#Definições-de-Métodos\" data-toc-modified-id=\"Definições-de-Métodos-2.3\"><span class=\"toc-item-num\">2.3&nbsp;&nbsp;</span>Definições de Métodos</a></span><ul class=\"toc-item\"><li><span><a href=\"#O-Método-__init__:\" data-toc-modified-id=\"O-Método-__init__:-2.3.1\"><span class=\"toc-item-num\">2.3.1&nbsp;&nbsp;</span>O Método <code>__init__</code>:</a></span></li><li><span><a href=\"#O-Método-__str__:\" data-toc-modified-id=\"O-Método-__str__:-2.3.2\"><span class=\"toc-item-num\">2.3.2&nbsp;&nbsp;</span>O Método <code>__str__</code>:</a></span></li><li><span><a href=\"#Outros-métodos-especiais:\" data-toc-modified-id=\"Outros-métodos-especiais:-2.3.3\"><span class=\"toc-item-num\">2.3.3&nbsp;&nbsp;</span>Outros métodos especiais:</a></span></li><li><span><a href=\"#Métodos-normais-de-uma-classe\" data-toc-modified-id=\"Métodos-normais-de-uma-classe-2.3.4\"><span class=\"toc-item-num\">2.3.4&nbsp;&nbsp;</span>Métodos normais de uma classe</a></span></li></ul></li><li><span><a href=\"#Exercícios\" data-toc-modified-id=\"Exercícios-2.4\"><span class=\"toc-item-num\">2.4&nbsp;&nbsp;</span>Exercícios</a></span></li></ul></li></ul></div>"
   ]
  },
  {
   "cell_type": "markdown",
   "metadata": {
    "slideshow": {
     "slide_type": "slide"
    }
   },
   "source": [
    "# Reuso de Código"
   ]
  },
  {
   "cell_type": "markdown",
   "metadata": {
    "slideshow": {
     "slide_type": "slide"
    }
   },
   "source": [
    "Se tivéssemos que escrever todos os programas a partir do zero, não poderíamos fazer muito. Parte da diversão da programação é usar algo que outra pessoa escreveu para resolver um problema mais rapidamente. Outro aspecto divertido da programação é escrever o código que outros possam reutilizar em seus programas. Considerando que as funções nos permitem \"compor\" partes de código para que possam ser reutilizadas ao longo de um programa, os módulos fornecem um meio de coletar conjuntos de funções (e como veremos nesta aula, tipos de dados personalizados) juntos para que possam ser usado por qualquer número de programas. "
   ]
  },
  {
   "cell_type": "markdown",
   "metadata": {
    "slideshow": {
     "slide_type": "slide"
    }
   },
   "source": [
    "## Pacotes e Módulos"
   ]
  },
  {
   "cell_type": "markdown",
   "metadata": {
    "slideshow": {
     "slide_type": "slide"
    }
   },
   "source": [
    "Um módulo Python, de maneira sucinta, é um arquivo .py. Um módulo pode conter qualquer código Python que nós gostamos. Todos os programas que escrevemos até agora foram contidos em um único arquivo .py e, portanto, são módulos e programas. A principal diferença é que os programas são projetados para serem executados, enquanto os módulos são projetados para serem\n",
    "importados e usados por programas. Um pacote é simplesmente um diretório que contém um conjunto de módulos que podem estar inter-relacionados ou não. Os pacotes funcionam como coleções para organizar módulos de forma hierárquica. Quando queremos usar uma função de um módulo ou pacote, precisamos importá-lo. Existem muitas formas diferentes de importar módulos e pacotes. A sintaxe mais básica é:"
   ]
  },
  {
   "cell_type": "code",
   "execution_count": null,
   "metadata": {
    "slideshow": {
     "slide_type": "fragment"
    }
   },
   "outputs": [],
   "source": [
    "import numpy"
   ]
  },
  {
   "cell_type": "markdown",
   "metadata": {
    "slideshow": {
     "slide_type": "slide"
    }
   },
   "source": [
    "após o qual qualquer função em `numpy` pode ser chamada como `numpy.function()`. Você pode mudar internamente o nome do pacote, por exemplo porque ele é longo ou porque este nome conflita com o nome de um objeto seu. No exemplo abaixo nos alteramos o nome de numpy para np, o que é bastante padrão na computação científica:"
   ]
  },
  {
   "cell_type": "code",
   "execution_count": null,
   "metadata": {
    "slideshow": {
     "slide_type": "fragment"
    }
   },
   "outputs": [],
   "source": [
    "import numpy as np"
   ]
  },
  {
   "cell_type": "markdown",
   "metadata": {
    "slideshow": {
     "slide_type": "slide"
    }
   },
   "source": [
    "Todas as funções em `numpy` podem ser chamadas internamente como `np.function()`.\n",
    "Os pacotes também podem ter subpacotes. Por exemplo, o pacote `numpy` tem um subpacote chamado `random`, que tem um conjunto de funções para lidar com variáveis aleatórias. Se o pacote numpy for importado com `import numpy as np`, as funções no sub-pacote `random` podem ser chamadas como `np.random.function()`."
   ]
  },
  {
   "cell_type": "markdown",
   "metadata": {
    "slideshow": {
     "slide_type": "slide"
    }
   },
   "source": [
    "## Um pouco sobre pacotes"
   ]
  },
  {
   "cell_type": "markdown",
   "metadata": {
    "slideshow": {
     "slide_type": "slide"
    }
   },
   "source": [
    "Python é uma ótima linguagem de programação de propósito geral por conta própria, mas com a ajuda de algums pacotes populares (e.g., numpy, scipy, matplotlib. Veja mais em [https://pypi.org/]) torna-se um ambiente poderoso para a computação científica.\n",
    "`Numpy`, que significa Numerical Python, é a principal biblioteca usada na computação científica em Python. Ela fornece um objeto de vetores multidimensionais (matrizes) de alto desempenho e ferramentas para trabalhar com esses vetores."
   ]
  },
  {
   "cell_type": "markdown",
   "metadata": {
    "slideshow": {
     "slide_type": "slide"
    }
   },
   "source": [
    "Se você precisar apenas de uma função específica, não é necessário importar todo o pacote. Por exemplo, se você quiser usar apenas a função coseno do pacote `numpy`, você pode importá-lo a partir de `numpy` assim:"
   ]
  },
  {
   "cell_type": "code",
   "execution_count": null,
   "metadata": {
    "slideshow": {
     "slide_type": "fragment"
    }
   },
   "outputs": [],
   "source": [
    "from numpy import cos"
   ]
  },
  {
   "cell_type": "markdown",
   "metadata": {
    "slideshow": {
     "slide_type": "fragment"
    }
   },
   "source": [
    "após o qual você pode simplesmente chamar a função coseno como `cos()`. Você pode mesmo renomear as funções quando as importa. Por exemplo:"
   ]
  },
  {
   "cell_type": "code",
   "execution_count": null,
   "metadata": {
    "slideshow": {
     "slide_type": "fragment"
    }
   },
   "outputs": [],
   "source": [
    "from numpy import cos as coseno"
   ]
  },
  {
   "cell_type": "markdown",
   "metadata": {
    "slideshow": {
     "slide_type": "fragment"
    }
   },
   "source": [
    "após o qual você pode chamar a função `coseno()` para calcular o coseno (eu sei, muito bobo, mas isso pode se tornar útil)."
   ]
  },
  {
   "cell_type": "markdown",
   "metadata": {
    "slideshow": {
     "slide_type": "slide"
    }
   },
   "source": [
    "Onde devemos inserir as declarações de importação? É prática comum colocar todas as instruções de importação no início dos arquivos .py, após a documentação do módulo. Além disso, recomendamos importar os módulos de biblioteca padrão do Python primeiro, depois módulos de biblioteca de terceiros e, finalmente, nossos próprios módulos."
   ]
  },
  {
   "cell_type": "markdown",
   "metadata": {
    "slideshow": {
     "slide_type": "slide"
    }
   },
   "source": [
    "## Localizando Módulos"
   ]
  },
  {
   "cell_type": "markdown",
   "metadata": {
    "slideshow": {
     "slide_type": "slide"
    }
   },
   "source": [
    "Quando importamos pela primeira vez um módulo, se ele não for uma \\textit{builtin}, o Python procura o módulo em cada diretório listado na variável de ambiente PYTHONPATH (`sys.path`) que normalmente inclui a pasta corrente em primeiro lugar. Uma conseqüência disso é que se criarmos um módulo ou programa com o mesmo nome de um dos módulos de biblioteca do Python, o nosso será encontrado primeiro, causando inevitavelmente problemas. Para evitar isso, nunca crie um programa ou módulo com o mesmo nome de um dos diretórios (pacotes) ou módulos de nível superior da biblioteca Python (i.e., não inclui os sub-módulos), a menos que você esteja fornecendo sua própria implementação desse módulo e que o substitua deliberadamente."
   ]
  },
  {
   "cell_type": "markdown",
   "metadata": {
    "slideshow": {
     "slide_type": "slide"
    }
   },
   "source": [
    "Nós podemos incluir o diretório ou diretórios de nossos módulos na variável de ambiente através da biblioteca `sys.path` assim: "
   ]
  },
  {
   "cell_type": "code",
   "execution_count": null,
   "metadata": {
    "slideshow": {
     "slide_type": "fragment"
    }
   },
   "outputs": [],
   "source": [
    "import sys\n",
    "sys.path.append('my_path')\n",
    "\n",
    "import my_lib"
   ]
  },
  {
   "cell_type": "markdown",
   "metadata": {
    "slideshow": {
     "slide_type": "slide"
    }
   },
   "source": [
    "# Módulos personalizados"
   ]
  },
  {
   "cell_type": "markdown",
   "metadata": {
    "slideshow": {
     "slide_type": "slide"
    }
   },
   "source": [
    "Nós abordamos até agora algumas ferramentas de software na resolução de\n",
    "problemas computacionais. A mais importante dessas ferramentas são os\n",
    "mecanismos de abstração para simplificar os projetos e controlar a complexidade\n",
    "das soluções. Os mecanismos de abstração incluem funções, módulos, objetos e\n",
    "classes. Em vários momentos começamos com uma visão externa de um recurso,\n",
    "mostrando o que ele faz e como ele pode ser usado. Por exemplo, para usar a\n",
    "função `sqrt` da \\textit{builtin} `math`, você o importa: ``` from math import sqrt```, \n",
    "executa: ``` help(sqrt) ``` para aprender a usar a função corretamente e\n",
    "então inclua-o apropriadamente em seu código. Os mesmos procedimentos são\n",
    "seguidos para estruturas de dados \\textit{builtin}, como strings e listas. Do ponto de vista de um usuário, você não teve que se preocupar com a forma como um recurso é executado. A beleza e a utilidade de uma abstração é que ela liberta você da necessidade de se preocupar com tais detalhes."
   ]
  },
  {
   "cell_type": "markdown",
   "metadata": {
    "slideshow": {
     "slide_type": "slide"
    }
   },
   "source": [
    "Infelizmente, nem todas as abstrações são encontradas em buitins. Às vezes, você precisa personalizar uma abstração para atender às necessidades de um aplicativo especializado ou conjunto de aplicativos que você está desenvolvendo. Ao projetar sua própria abstração, você deve ter uma visão diferente da dos usuários e se preocupar com o funcionamento interno de um recurso. O programador que define uma nova função ou constrói um novo módulo de recursos está usando os recursos fornecidos por outros para criar novos componentes de software. Nós vamos mostrar nesta aula como projetar, implementar e testar outro mecanismo de abstração - uma classe.\n",
    "As linguagens de programação que permitem ao programador definir novas classes\n",
    "de objetos são chamados de linguagem orientada a objetos. Essas linguagens também suportam um estilo de programação chamado programação orientada a objetos. Ao contrário da programação baseada em objetos, que simplesmente usa objetos e classes prontas dentro\n",
    "uma estrutura de funções e código algorítmico, a programação orientada a objetos oferece mecanismos  para conceber e construir sistemas de software inteiros a partir de classes cooperantes."
   ]
  },
  {
   "cell_type": "markdown",
   "metadata": {
    "slideshow": {
     "slide_type": "slide"
    }
   },
   "source": [
    "Como funções, os objetos são abstrações. Uma função agrupa um algoritmo em uma\n",
    "única operação que pode ser chamada pelo nome. Um objeto envolve um conjunto de\n",
    "valores de dados -- seu estado, e um conjunto de operações -- seus métodos, em uma única entidade que pode ser referenciada com um nome. Isso torna um objeto uma abstração mais complexa do que uma função. Uma definição de classe é como um modelo para cada um dos objetos dessa classe. Este modelo contém:\n",
    "\n",
    "- Definições de todos os métodos que seus objetos reconhecem;\n",
    "- Descrições das estruturas de dados usadas para manter o estado de um objeto,\n",
    "ou seus atributos.\n",
    "\n",
    "Para ilustrar estas idéias, analisaremos a construção de um tipo abstrato de dados personalizado."
   ]
  },
  {
   "cell_type": "markdown",
   "metadata": {
    "slideshow": {
     "slide_type": "slide"
    }
   },
   "source": [
    "## O módulo vector.py"
   ]
  },
  {
   "cell_type": "markdown",
   "metadata": {
    "slideshow": {
     "slide_type": "slide"
    }
   },
   "source": [
    "O que queremos construir é um módulo que representa um tipo abstrato de dados chamado de vetor euclidiano (também conhecido como vetor geométrico) e operações sobre este. Um vetor é definido como uma entidade que possui tanto a magnitude quanto a direção. O vetor é tipicamente desenhado como uma seta; a direção é indicada por onde a flecha está apontando, e a magnitude pelo comprimento da própria seta. Por questão de simplicidade, vamos trabalhar com vetores de duas dimensões (representados num plano) embora os exemplos podem ser facilmente extendidos para três dimensões."
   ]
  },
  {
   "cell_type": "markdown",
   "metadata": {
    "slideshow": {
     "slide_type": "slide"
    }
   },
   "source": [
    "Uma outra maneira de pensar em um vetor é a diferença entre dois pontos. Considere como você pode fazer instruções para andar de um ponto para outro. Aqui estão alguns vetores e possíveis traduções:"
   ]
  },
  {
   "cell_type": "markdown",
   "metadata": {
    "slideshow": {
     "slide_type": "slide"
    }
   },
   "source": [
    "![vector2](img/vector2.png)"
   ]
  },
  {
   "cell_type": "markdown",
   "metadata": {
    "slideshow": {
     "slide_type": "slide"
    }
   },
   "source": [
    "Portanto, podemos representar os vetores assim: "
   ]
  },
  {
   "cell_type": "code",
   "execution_count": null,
   "metadata": {
    "slideshow": {
     "slide_type": "fragment"
    }
   },
   "outputs": [],
   "source": [
    "vector(3, 4)\n",
    "vector(2, -1)\n",
    "vector(-15, 3)"
   ]
  },
  {
   "cell_type": "markdown",
   "metadata": {
    "slideshow": {
     "slide_type": "fragment"
    }
   },
   "source": [
    "Antes de continuar a olhar para a tipo `vector` e seus métodos de soma, subtração etc., vamos recordar as principais operações sobre o tipo `vector` usando a notação encontrada em livros de matemática e física."
   ]
  },
  {
   "cell_type": "markdown",
   "metadata": {
    "slideshow": {
     "slide_type": "slide"
    }
   },
   "source": [
    "### Vector Add"
   ]
  },
  {
   "cell_type": "markdown",
   "metadata": {
    "slideshow": {
     "slide_type": "slide"
    }
   },
   "source": [
    "Digamos que eu tenho os seguintes dois vetores:"
   ]
  },
  {
   "cell_type": "markdown",
   "metadata": {
    "slideshow": {
     "slide_type": "fragment"
    }
   },
   "source": [
    "![vector3](img/vector3.png)"
   ]
  },
  {
   "cell_type": "markdown",
   "metadata": {
    "slideshow": {
     "slide_type": "slide"
    }
   },
   "source": [
    "Cada vetor tem dois componentes, $x$ e $y$. Para adicionar dois vetores juntos, simplesmente adicionamos ambos $x$ e os dois $y$:"
   ]
  },
  {
   "cell_type": "markdown",
   "metadata": {
    "slideshow": {
     "slide_type": "fragment"
    }
   },
   "source": [
    "![vector4](img/vector4.png)"
   ]
  },
  {
   "cell_type": "markdown",
   "metadata": {
    "slideshow": {
     "slide_type": "slide"
    }
   },
   "source": [
    "### Vector Subtraction"
   ]
  },
  {
   "cell_type": "markdown",
   "metadata": {
    "slideshow": {
     "slide_type": "fragment"
    }
   },
   "source": [
    "![vector5](img/vector5.png)"
   ]
  },
  {
   "cell_type": "markdown",
   "metadata": {
    "slideshow": {
     "slide_type": "slide"
    }
   },
   "source": [
    "### Vector Multiplication"
   ]
  },
  {
   "cell_type": "markdown",
   "metadata": {
    "slideshow": {
     "slide_type": "fragment"
    }
   },
   "source": [
    "<img src=\"img/vector6.png\" alt=\"Drawing\" style=\"width: 400px;\"/>"
   ]
  },
  {
   "cell_type": "markdown",
   "metadata": {
    "slideshow": {
     "slide_type": "slide"
    }
   },
   "source": [
    "### Vector Division"
   ]
  },
  {
   "cell_type": "markdown",
   "metadata": {
    "slideshow": {
     "slide_type": "fragment"
    }
   },
   "source": [
    "A divisão funciona como a multiplicação - simplesmente substituímos o sinal de multiplicação ($*$) pelo sinal de divisão ($/$)."
   ]
  },
  {
   "cell_type": "markdown",
   "metadata": {
    "slideshow": {
     "slide_type": "fragment"
    }
   },
   "source": [
    "![vector7](img/vector7.png)"
   ]
  },
  {
   "cell_type": "markdown",
   "metadata": {
    "slideshow": {
     "slide_type": "slide"
    }
   },
   "source": [
    "### Vector Magnitude"
   ]
  },
  {
   "cell_type": "markdown",
   "metadata": {
    "slideshow": {
     "slide_type": "fragment"
    }
   },
   "source": [
    "A multiplicação e a divisão, como acabamos de ver, são meios pelos quais o comprimento do vetor pode ser alterado sem afetar a direção. Talvez você esteja se perguntando: \"OK, então, como eu sei qual é o comprimento de um vetor? Conheço os componentes (x e y), mas qual o comprimento (em pixels) é a seta real? \"Compreender como calcular o comprimento (também conhecido como magnitude) de um vetor é incrivelmente útil e importante."
   ]
  },
  {
   "cell_type": "markdown",
   "metadata": {
    "slideshow": {
     "slide_type": "slide"
    }
   },
   "source": [
    "Observe nos diagramas anteriores como o vetor, desenhado como uma seta e dois componentes (x e y), cria um triângulo reto. Os lados são os componentes e a hipotenusa é a própria flecha. Armado com o theorema de Pitágoras podemos calcular a magnitude de v da seguinte maneira:"
   ]
  },
  {
   "cell_type": "markdown",
   "metadata": {
    "slideshow": {
     "slide_type": "fragment"
    }
   },
   "source": [
    "$|v| = \\sqrt{x^2 + y^2}$"
   ]
  },
  {
   "cell_type": "markdown",
   "metadata": {
    "slideshow": {
     "slide_type": "slide"
    }
   },
   "source": [
    "### Vector Normalization"
   ]
  },
  {
   "cell_type": "markdown",
   "metadata": {
    "slideshow": {
     "slide_type": "slide"
    }
   },
   "source": [
    "Para normalizar um vetor, simplesmente dividimos cada componente por sua magnitude. Isso é bastante intuitivo. Digamos que um vetor tem comprimento 5. Bem, 5 dividido por 5 é 1. Então, olhando para o nosso triângulo retângulo, então precisamos escalar a hipotenusa para baixo dividindo-se por 5. Nesse processo os lados diminuirão, divididos por 5 também."
   ]
  },
  {
   "cell_type": "markdown",
   "metadata": {
    "slideshow": {
     "slide_type": "fragment"
    }
   },
   "source": [
    "![vector8](img/vector8.png)"
   ]
  },
  {
   "cell_type": "markdown",
   "metadata": {
    "slideshow": {
     "slide_type": "slide"
    }
   },
   "source": [
    "Existem muitas operações matemáticas que são comumente usadas com vetores, mas para nosso exemplo, vamos parar por aqui. Eis nosso código:"
   ]
  },
  {
   "cell_type": "code",
   "execution_count": null,
   "metadata": {
    "code_folding": [],
    "slideshow": {
     "slide_type": "fragment"
    }
   },
   "outputs": [],
   "source": [
    "#!/usr/bin/env python3\n",
    "\n",
    "\"\"\"vector.py: A simple little Vector class. Enabling basic vector math. \"\"\"\n",
    "\n",
    "__author__ = \"Marcio Pereira\"\n",
    "__license__ = \"GPL\"\n",
    "__version__ = \"1.0\"\n",
    "\n",
    "\n",
    "class Vector:\n",
    "    \"\"\"Represents a Vector.\"\"\"\n",
    "    \n",
    "    def __init__(self, x, y):\n",
    "        \"\"\"Constructor creates a Vector with x-axes and y-axes values.\"\"\"\n",
    "        self.x = x\n",
    "        self.y = y\n",
    "\n",
    "    def __str__(self):\n",
    "        \"\"\" Return a string representation of self.\"\"\"\n",
    "        return \"Vector(\" + str(self.x) + \", \" + str(self.y) + \")\"        \n",
    "\n",
    "\n",
    "# for testing: create and use some Vector objects\n",
    "if __name__ == '__main__':\n",
    "    v1 = Vector(3, 4)\n",
    "    v2 = Vector(2, -1)\n",
    "    v3 = Vector(-15, 3)\n",
    "    print(v1)\n",
    "    print(v2.x)\n",
    "    print(v3.y)"
   ]
  },
  {
   "cell_type": "markdown",
   "metadata": {
    "slideshow": {
     "slide_type": "slide"
    }
   },
   "source": [
    "A estrutura deste módulo (e a maioria dos outros) difere pouco do de um programa. A primeira linha é a linha `shebang` e, em seguida, é comum ter uma seqüência de citações entre aspas triplas que fornece uma visão geral do conteúdo do módulo, muitas vezes incluindo alguns exemplos de uso - esta é a `docstring` do módulo. Depois, temos alguns comentários (normalmente, os direitos autorais e as informações da licença), seguido do corpo do módulo e ao final, dentro de uma sentença `if`, uma parte reservada aos testes de suas funcionalidades."
   ]
  },
  {
   "cell_type": "markdown",
   "metadata": {
    "slideshow": {
     "slide_type": "slide"
    }
   },
   "source": [
    "Sempre que um módulo é importado, o Python cria uma variável para o módulo chamado `__name__` e armazena o nome do módulo nesta variável. O nome de um módulo é simplesmente o nome do seu arquivo .py, mas sem a extensão. Então, neste exemplo, quando o módulo for importado `__name__` terá o valor `\"vector\"`, e a condição `if` não será atendida, então as últimas linhas de teste do módulo não serão executadas. Isto significa que estas últimas linhas têm praticamente nenhum custo quando o módulo é importado.\n",
    "Sempre que um arquivo .py é executado, o Python cria uma variável para o programa chamado `__name__` e define-o para a string `\"__main__\"`. Então, se fosse executar o `vector.py` como se fosse um programa, o Python configurará `__name__` para `\"__main__\"` e a condição `if` irá avaliar para `True` e as últimas linhas de teste do módulo serão executadas."
   ]
  },
  {
   "cell_type": "markdown",
   "metadata": {
    "slideshow": {
     "slide_type": "slide"
    }
   },
   "source": [
    "## A Classe Vector"
   ]
  },
  {
   "cell_type": "markdown",
   "metadata": {
    "slideshow": {
     "slide_type": "fragment"
    }
   },
   "source": [
    "A sintaxe de definição de classe tem duas partes: um cabeçalho de classe e um conjunto de definições de método que seguem o cabeçalho da classe. O cabeçalho da classe consiste no nome da classe e, no nome da classe \"pai\", onde este objeto \"herda\" suas caracteristicas. Quando não fornecido, esta classe é a classe `Object` de Python. Este mecanismo é conhecido como mecanismo de herança de classes, porém está fora do escopo deste curso.\n",
    "O nome da classe é um identificador em Python. Embora os nomes de tipos \\textit{builtins}  não estejam capitalizados, os programadores Python tipicamente usam seus nomes de classes capitalizados para distingui-los de nomes de variáveis."
   ]
  },
  {
   "cell_type": "markdown",
   "metadata": {
    "slideshow": {
     "slide_type": "slide"
    }
   },
   "source": [
    "## Definições de Métodos"
   ]
  },
  {
   "cell_type": "markdown",
   "metadata": {
    "slideshow": {
     "slide_type": "fragment"
    }
   },
   "source": [
    "Todas as definições do método são recuadas abaixo do cabeçalho da classe. Como os métodos são parecidos com funções, a sintaxe de suas definições é semelhante. Note, no entanto, que cada definição de método deve incluir um primeiro parâmetro chamado `self`, mesmo que esse método não receba nenhum argumento quando chamado. Quando um método é chamado com um objeto, o interpretador liga o parâmetro `self` a esse objeto para que o código do método possa se referir ao objeto pelo nome."
   ]
  },
  {
   "cell_type": "markdown",
   "metadata": {
    "slideshow": {
     "slide_type": "slide"
    }
   },
   "source": [
    "### O Método `__init__`:"
   ]
  },
  {
   "cell_type": "markdown",
   "metadata": {
    "slideshow": {
     "slide_type": "slide"
    }
   },
   "source": [
    "A maioria das classes inclui um método especial chamado `__init__`. Observe que `__init__` deve começar e terminar com dois sublinhados consecutivos. Esse método também é chamado de construtor da classe, porque é executado automaticamente quando um usuário instancia a classe. Assim, quando o segmento de código:\n",
    "```\n",
    "v1 = Vector(3, 4)\n",
    "```\n",
    "é executado, o Python executa automaticamente o construtor ou o método `__init__` da classe Vector. O objetivo do construtor é inicializar os atributos de um objeto individual. Além de si próprio, o construtor Vector espera dois argumentos que fornecem os valores iniciais para esses atributos. A partir deste momento, quando nos referimos ao construtor de uma classe, queremos dizer seu método `__init__`."
   ]
  },
  {
   "cell_type": "markdown",
   "metadata": {
    "slideshow": {
     "slide_type": "slide"
    }
   },
   "source": [
    "Os atributos de um objeto são representados como variáveis \"de instância\". Cada objeto individual possui seu próprio conjunto de variáveis \"de instância\". Essas variáveis servem de armazenamento para seu estado. O escopo de uma variável de instância (incluindo `self`) é a definição de classe inteira. Assim, todos os métodos da classe estão em posição de fazer referência às variáveis \"da instância\". A vida útil de uma variável de instância é a vida útil do objeto em si.\n",
    "\n",
    "Dentro da definição da classe, os nomes das variáveis \"de instância\" devem começar com `self`. Variáveis declaradas como da classe (i.e., sem `self`) são compartilhadas por todos os objetos daquele tipo."
   ]
  },
  {
   "cell_type": "markdown",
   "metadata": {
    "slideshow": {
     "slide_type": "slide"
    }
   },
   "source": [
    "### O Método `__str__`:"
   ]
  },
  {
   "cell_type": "markdown",
   "metadata": {
    "slideshow": {
     "slide_type": "slide"
    }
   },
   "source": [
    "As classes geralmente incluem um método `__str__`. Esse método cria e retorna uma representação em string do estado de um objeto. Quando a função `str` é chamada com um objeto, o método `__str__` desse objeto é automaticamente invocado para obter a seqüência de caracteres que descreve o objeto. Por exemplo, a chamada da função `str(v1)` é equivalente à chamada do método `v1.__str__()`, e é mais simples de escrever. Note também que a função `print`do Python chama o método `__str__` da classe do objeto a ser impresso."
   ]
  },
  {
   "cell_type": "code",
   "execution_count": null,
   "metadata": {
    "slideshow": {
     "slide_type": "fragment"
    }
   },
   "outputs": [],
   "source": [
    "print(v2)"
   ]
  },
  {
   "cell_type": "markdown",
   "metadata": {
    "slideshow": {
     "slide_type": "slide"
    }
   },
   "source": [
    "### Outros métodos especiais:"
   ]
  },
  {
   "cell_type": "markdown",
   "metadata": {
    "slideshow": {
     "slide_type": "fragment"
    }
   },
   "source": [
    "Podemos também definir as operações básicas de soma, subtração, multiplicação e divisão,usando métodos especiais (\\textit{dunder methods}) do Python [https://docs.python.org/3/reference/datamodel.html]: "
   ]
  },
  {
   "cell_type": "code",
   "execution_count": null,
   "metadata": {
    "code_folding": [
     3,
     8,
     16,
     20,
     24,
     28,
     34
    ],
    "slideshow": {
     "slide_type": "slide"
    }
   },
   "outputs": [],
   "source": [
    "class Vector:\n",
    "    \"\"\"Represents a Vector.\"\"\"\n",
    "\n",
    "    def __init__(self, x, y):\n",
    "        \"\"\"Constructor creates a Vector with x-axes and y-axes values.\"\"\"\n",
    "        self.x = x\n",
    "        self.y = y\n",
    "\n",
    "    def __str__(self):\n",
    "        \"\"\" Return a string representation of self.\"\"\"\n",
    "        return \"Vector(\" + str(self.x) + \", \" + str(self.y) + \")\"\n",
    "\n",
    "    def __add__(self, other):\n",
    "        \"\"\" Return the sum of self and Vector object other.\"\"\"\n",
    "        return Vector(self.x + other.x, self.y + other.y)\n",
    "\n",
    "    def __sub__(self, other):\n",
    "        \"\"\" Return the difference of self and Vector object other.\"\"\"\n",
    "        return Vector(self.x - other.x, self.y - other.y)\n",
    "\n",
    "    def __mul__(self, alpha):\n",
    "        \"\"\" Return the product of self and numeric object alpha.\"\"\"\n",
    "        return Vector(self.x * alpha, self.y * alpha)\n",
    "\n",
    "    def __rmul__(self, alpha):\n",
    "        \"\"\" Return the reverse product of self and numeric object alpha.\"\"\"\n",
    "        return Vector(self.x * alpha, self.y * alpha)\n",
    "\n",
    "    def __truediv__(self, alpha):\n",
    "        \"\"\" Return the division of self and numeric object alpha.\"\"\"\n",
    "        return Vector(self.x / alpha, self.y / alpha)\n",
    "\n",
    "\n",
    "# for testing: create and use some Vector objects\n",
    "if __name__ == '__main__':\n",
    "    v1 = Vector(3, 4)\n",
    "    v2 = Vector(2, -1)\n",
    "    v3 = Vector(-15, 3)\n",
    "    print(v1)\n",
    "    print(v2 + v1)\n",
    "    print(v1 - v3)\n",
    "    print(v3 * 2)\n",
    "    print(4 * v1)\n",
    "    print(v2 / 2)"
   ]
  },
  {
   "cell_type": "markdown",
   "metadata": {
    "slideshow": {
     "slide_type": "slide"
    }
   },
   "source": [
    "### Métodos normais de uma classe"
   ]
  },
  {
   "cell_type": "markdown",
   "metadata": {
    "slideshow": {
     "slide_type": "fragment"
    }
   },
   "source": [
    "Os métodos \"normais\" de uma classe são chamados pelos nomes. Vamos definir as operações de Normalização e Magnitude de vetores como métodos comuns, isto é, sem recorrer aos métodos especiais:"
   ]
  },
  {
   "cell_type": "code",
   "execution_count": null,
   "metadata": {
    "code_folding": [
     6,
     11,
     15,
     19,
     23,
     27,
     31,
     45
    ],
    "slideshow": {
     "slide_type": "slide"
    }
   },
   "outputs": [],
   "source": [
    "from math import sqrt\n",
    "\n",
    "\n",
    "class Vector:\n",
    "    def __init__(self, x, y):\n",
    "        \"\"\"Constructor creates a Vector with x-axes and y-axes values.\"\"\"\n",
    "        self.x = x\n",
    "        self.y = y\n",
    "\n",
    "    def __str__(self):\n",
    "        \"\"\" Return a string representation of self.\"\"\"\n",
    "        return \"Vector(\" + str(self.x) + \", \" + str(self.y) + \")\"\n",
    "\n",
    "    def __add__(self, other):\n",
    "        \"\"\" Return the sum of self and Vector object other.\"\"\"\n",
    "        return Vector(self.x + other.x, self.y + other.y)\n",
    "\n",
    "    def __sub__(self, other):\n",
    "        \"\"\" Return the difference of self and Vector object other.\"\"\"\n",
    "        return Vector(self.x - other.x, self.y - other.y)\n",
    "\n",
    "    def __mul__(self, alpha):\n",
    "        \"\"\" Return the product of self and numeric object alpha.\"\"\"\n",
    "        return Vector(self.x * alpha, self.y * alpha)\n",
    "\n",
    "    def __rmul__(self, alpha):\n",
    "        \"\"\" Return the reverse product of self and numeric object alpha.\"\"\"\n",
    "        return Vector(self.x * alpha, self.y * alpha)\n",
    "\n",
    "    def __truediv__(self, alpha):\n",
    "        \"\"\" Return the division of self and numeric object alpha.\"\"\"\n",
    "        return Vector(self.x / alpha, self.y / alpha)\n",
    "\n",
    "    def magnitude(self):\n",
    "        \"\"\" Return the magnitude of self object.\"\"\"\n",
    "        return sqrt(self.x ** 2 + self.y ** 2)\n",
    "\n",
    "    def norm(self):\n",
    "        \"\"\" Return the self object normalized.\"\"\"\n",
    "        return self / self.magnitude()\n",
    "\n",
    "\n",
    "# for testing: create and use some Vector objects\n",
    "if __name__ == '__main__':\n",
    "    v1 = Vector(3, 4)\n",
    "    v2 = Vector(2, -1)\n",
    "    v3 = Vector(-15, 3)\n",
    "    print(v1.magnitude())\n",
    "    print(v1.norm())"
   ]
  },
  {
   "cell_type": "markdown",
   "metadata": {
    "slideshow": {
     "slide_type": "slide"
    }
   },
   "source": [
    "## Exercícios"
   ]
  },
  {
   "cell_type": "markdown",
   "metadata": {
    "slideshow": {
     "slide_type": "slide"
    }
   },
   "source": [
    "**Classe Aluno**\n",
    "\n",
    "Crie uma classe aluno com dois atributos, nome e lista de notas. Construa métodos para visualizar o aluno e a lista de notas do mesmo, bem como para inserir uma nota\n",
    "\n",
    "**Classe Cadastro**\n",
    "\n",
    "Para representar o cadastro de alunos, crie uma classe que contém um campo cadastro que é uma lista de Alunos. Crie métodos nesta classe para:\n",
    "- incluir um aluno no cadastro.\n",
    "- excluir um aluno do cadastro.\n",
    "- imprimir os alunos no cadastro."
   ]
  }
 ],
 "metadata": {
  "kernelspec": {
   "display_name": "Python 3 (ipykernel)",
   "language": "python",
   "name": "python3"
  },
  "language_info": {
   "codemirror_mode": {
    "name": "ipython",
    "version": 3
   },
   "file_extension": ".py",
   "mimetype": "text/x-python",
   "name": "python",
   "nbconvert_exporter": "python",
   "pygments_lexer": "ipython3",
   "version": "3.13.2"
  },
  "latex_envs": {
   "LaTeX_envs_menu_present": true,
   "autoclose": false,
   "autocomplete": true,
   "bibliofile": "biblio.bib",
   "cite_by": "apalike",
   "current_citInitial": 1,
   "eqLabelWithNumbers": true,
   "eqNumInitial": 1,
   "hotkeys": {
    "equation": "Ctrl-E",
    "itemize": "Ctrl-I"
   },
   "labels_anchors": false,
   "latex_user_defs": false,
   "report_style_numbering": false,
   "user_envs_cfg": false
  },
  "livereveal": {
   "theme": "solarized",
   "transition": "slide"
  },
  "toc": {
   "base_numbering": 1,
   "nav_menu": {},
   "number_sections": true,
   "sideBar": true,
   "skip_h1_title": false,
   "title_cell": "Table of Contents",
   "title_sidebar": "Contents",
   "toc_cell": true,
   "toc_position": {
    "height": "509px",
    "left": "0px",
    "right": "20px",
    "top": "110px",
    "width": "186px"
   },
   "toc_section_display": false,
   "toc_window_display": false
  }
 },
 "nbformat": 4,
 "nbformat_minor": 4
}
