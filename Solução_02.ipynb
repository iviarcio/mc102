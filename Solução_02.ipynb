{
 "cells": [
  {
   "cell_type": "markdown",
   "metadata": {},
   "source": [
    "# Exercícios de Revisão 2"
   ]
  },
  {
   "cell_type": "markdown",
   "metadata": {},
   "source": [
    "**Questão 01: Quadrado mágico.** Um quadrado mágico é aquele dividido em linhas e colunas, com um número em cada posição e no qual a soma das linhas, colunas e diagonais é a mesma. Por exemplo, veja um quadrado mágico de lado 3, com números de 1 a 9:\n",
    "```\n",
    "8  3  4 \n",
    "1  5  9\n",
    "6  7  2\n",
    "```\n",
    "Elabore uma função que identifica e mostra na tela todos os quadrados mágicos com as características acima. Dica: produza todas as combinações possíveis e verifique a soma quando completar cada quadrado."
   ]
  },
  {
   "cell_type": "code",
   "execution_count": null,
   "metadata": {
    "code_folding": []
   },
   "outputs": [],
   "source": [
    "def magicSquare(v):\n",
    "    magic = v[0]+v[1]+v[2]\n",
    "    if v[3]+v[4]+v[5] == v[6]+v[7]+v[8] == magic:\n",
    "        if v[0]+v[3]+v[6] == v[1]+v[4]+v[7] == v[2]+v[5]+v[8] == magic:\n",
    "            if v[0]+v[4]+v[8] == v[2]+v[4]+v[6] == magic:\n",
    "                for i in range(0, 9, 3):\n",
    "                    print(v[i], v[i+1], v[i+2], sep=\" \")\n",
    "                print()\n",
    "\n",
    "\n",
    "def rotateLeft(v, start, end):\n",
    "    tmp = v[start]\n",
    "    for i in range(start, end-1):\n",
    "        v[i] = v[i+1]\n",
    "    v[end-1] = tmp\n",
    "\n",
    "\n",
    "def permute(v, start, end):\n",
    "    magicSquare(v)\n",
    "    if start < end:\n",
    "        for i in range(end-2, start-1, -1):\n",
    "            for j in range(i+1, end):\n",
    "                v[i], v[j] = v[j], v[i]\n",
    "                permute(v, i+1, end)\n",
    "            rotateLeft(v, i, end)\n",
    "\n",
    "\n",
    "if __name__ == '__main__':\n",
    "    v = [1, 2, 3, 4, 5, 6, 7, 8, 9]\n",
    "    permute(v, 0, 9)"
   ]
  },
  {
   "cell_type": "markdown",
   "metadata": {},
   "source": [
    "**Nota:** O algoritmo recursivamente calcula as permutações de subconjuntos maiores e maiores do conjunto (por exemplo, um conjunto de dois elementos, um conjunto de três elementos ...}. Após cada passo recursivo, o subconjunto é girado de volta para a ordem original no estágio anterior."
   ]
  },
  {
   "cell_type": "markdown",
   "metadata": {},
   "source": [
    "**Questão 02: Removendo elementos duplicados.**  Escreva a função remove_repetidos que recebe como parâmetro uma lista com números inteiros, verifica se tal lista possui elementos repetidos e os remove. A função deve devolver uma lista correspondente à primeira lista, sem elementos repetidos. A lista devolvida deve estar ordenada."
   ]
  },
  {
   "cell_type": "code",
   "execution_count": null,
   "metadata": {
    "code_folding": [
     0
    ]
   },
   "outputs": [],
   "source": [
    "def remove_repetidos(lista):\n",
    "    l = []\n",
    "    for i in lista:\n",
    "        if i not in l:\n",
    "            l.append(i)\n",
    "    l.sort()\n",
    "    return l\n",
    "\n",
    "lista = [8, 1, 2, 1, 3, 4, 3, 6, 7, 6, 5, 8, 2 ,9]\n",
    "\n",
    "lista = remove_repetidos(lista)\n",
    "print (lista)"
   ]
  },
  {
   "cell_type": "markdown",
   "metadata": {},
   "source": [
    "**Questaão 03: Remoção preservando a ordem.** Escreva uma função que remove os elementos repetidos de uma lista de números inteiros, porém preservando a ordem da lista."
   ]
  },
  {
   "cell_type": "code",
   "execution_count": null,
   "metadata": {
    "code_folding": []
   },
   "outputs": [],
   "source": [
    "def remove_repetidos(lista):\n",
    "    l = []\n",
    "    for i in lista:\n",
    "        if i not in l:\n",
    "            l.append(i)\n",
    "    return l\n",
    "\n",
    "lista = [8, 1, 2, 1, 3, 4, 3, 6, 7, 6, 5, 8, 2 ,9]\n",
    "\n",
    "lista = remove_repetidos(lista)\n",
    "print (lista)"
   ]
  },
  {
   "cell_type": "markdown",
   "metadata": {},
   "source": [
    "**Questão 04: Números Triangulares** Dizemos que um número natural é triangular se ele é produto de três números naturais consecutivos. Por exemplo: 120 é triangular, pois 4$*$5$*$6 = 120. 2730 é triangular, pois 13$*$14$*$15 = 2730. Dado um inteiro não-negativo $n$, crie uma função para veriﬁcar se $n$ é triangular. Deve-se devolver True se o número for triangular, caso contrário False."
   ]
  },
  {
   "cell_type": "code",
   "execution_count": null,
   "metadata": {
    "code_folding": [
     0
    ]
   },
   "outputs": [],
   "source": [
    "def triangular(n):\n",
    "    i, v = 1, 0\n",
    "    while v < n:\n",
    "        v = i * (i+1) * (i+2)\n",
    "        i += 1\n",
    "    return v == n\n",
    "\n",
    "print(\"120 é triangular? \", triangular(120))\n",
    "print(\"2730 é triangular? \", triangular(2730))\n",
    "print(\"506 é triangular? \", triangular(506))"
   ]
  },
  {
   "cell_type": "markdown",
   "metadata": {},
   "source": [
    "**Questão 05: Matrizes Similares** Crie uma função que permita veriﬁcar se duas (2) matrizes, dadas como parâmetros, são similares. Dois valores x, e y são similares se $abs(x-y) <= d$, onde d é a distancia fornecida."
   ]
  },
  {
   "cell_type": "code",
   "execution_count": null,
   "metadata": {},
   "outputs": [],
   "source": []
  },
  {
   "cell_type": "markdown",
   "metadata": {},
   "source": [
    "**Questão 06: Normalização.** Considere A uma matriz. A normalização de uma matriz é realizada, dividindo cada elemento da matriz A pelo maior elemento da linha correspondente. Crie uma função que permita normalizar uma matriz de números inteiros dada como parâmetro."
   ]
  },
  {
   "cell_type": "code",
   "execution_count": null,
   "metadata": {
    "code_folding": [
     0
    ]
   },
   "outputs": [],
   "source": [
    "def normalizar_matriz(A):\n",
    "    B = [[0 for _ in range(len(A[0]))] for _ in range(len(A))]\n",
    "    for i in range(len(A)):\n",
    "        max = A[i][0]\n",
    "        for j in range(len(A[0])):\n",
    "            if A[i][j] > max:\n",
    "                max = A[i][j]\n",
    "        for j in range(len(A[0])):\n",
    "            B[i][j] = float(A[i][j]) / max\n",
    "    return B\n",
    "\n",
    "M = [[2, 7, 6],\n",
    "     [9, 5, 1],\n",
    "     [4, 3, 8]]\n",
    "\n",
    "R = normalizar_matriz(M)\n",
    "\n",
    "for i in range(len(R)):\n",
    "    for j in range(len(R[0])):\n",
    "        print(f\"{R[i][j]:.2f}\", end=\" \")\n",
    "    print()    "
   ]
  },
  {
   "cell_type": "markdown",
   "metadata": {},
   "source": [
    "**Questão 07: Transposta.** A transposição de uma matriz é uma tarefa que todos nós podemos executar muito facilmente em python (usando um laços aninhados). Mas existem algumas maneiras interessantes de fazer o mesmo em uma única linha de código. Implemente a transposição de uma matriz $n x m$ usando (1) compreensão de listas e (2) a função zip."
   ]
  },
  {
   "cell_type": "code",
   "execution_count": null,
   "metadata": {
    "code_folding": []
   },
   "outputs": [],
   "source": [
    "def print_matrix(M):\n",
    "    for i in range(len(M)):\n",
    "        for j in range(len(M[0])):\n",
    "            print(M[i][j], end=\" \")\n",
    "        print()    \n",
    "    \n",
    "def transposta_compreensao(A):\n",
    "    B = [[A[i][j] for i in range(len(A))] for j in range(len(A[0]))]\n",
    "    return B\n",
    "\n",
    "def transposta_zip(A):\n",
    "    B = [list(i) for i in zip(*A)]\n",
    "    return B\n",
    "\n",
    "M = [[2, 7, 6],\n",
    "     [9, 5, 1]]\n",
    "R = transposta_compreensao(M)\n",
    "print_matrix(R)\n",
    "print()\n",
    "R = transposta_zip(M)\n",
    "print_matrix(R)"
   ]
  },
  {
   "cell_type": "markdown",
   "metadata": {},
   "source": [
    "**Questão 08: Recursão básica.** Crie uma função recursiva que permita somar todos os números naturais no intervalo até $n$, $n$ dado como entrada."
   ]
  },
  {
   "cell_type": "code",
   "execution_count": null,
   "metadata": {
    "code_folding": [
     0
    ]
   },
   "outputs": [],
   "source": [
    "def somatoria(n):\n",
    "    if n == 1:\n",
    "        return 1\n",
    "    else:\n",
    "        return n + somatoria(n-1)\n",
    "    \n",
    "print(somatoria(100))"
   ]
  },
  {
   "cell_type": "markdown",
   "metadata": {},
   "source": [
    "**Questão 09: Recursão** Indique que resultado apresentará a execução da seguinte função. Considere como parâmetro de entrada a frase \"unicamp\". O que faz a função? \n",
    "```\n",
    "def funcaoR(frase):\n",
    "    if len(frase) == 1:\n",
    "        return frase\n",
    "    else:\n",
    "        return funcaoR(frase[1:]) + frase[0]\n",
    "```"
   ]
  },
  {
   "cell_type": "markdown",
   "metadata": {},
   "source": [
    "**Solução:** Retorna a frase invertida. No exemplo: pmacinu"
   ]
  },
  {
   "cell_type": "markdown",
   "metadata": {},
   "source": [
    "**Questão 10: Binomial.** Escreva uma função recursiva que calcule o binomial (n,k). Observe que:\n",
    "\n",
    "$\\binom{n}{k} = \\frac{n!}{k!(n-k)!}$\n"
   ]
  },
  {
   "cell_type": "markdown",
   "metadata": {},
   "source": [
    "**Solução:** Observe que: $\\binom{n}{k} = \\frac{n!}{k!(n-k)!} = \\frac{n}{k}\\frac{(n-1)!}{(k-1)!(n-k)!} = \\frac{n}{k}\\binom{n-1}{k-1}$"
   ]
  },
  {
   "cell_type": "code",
   "execution_count": null,
   "metadata": {
    "code_folding": []
   },
   "outputs": [],
   "source": [
    "def coef_binomial(n, k):\n",
    "    if k == 1:\n",
    "        return n\n",
    "    else:\n",
    "        return float(n) / k * coef_binomial(n-1, k-1)\n",
    "    \n",
    "print(coef_binomial(5,3))"
   ]
  },
  {
   "cell_type": "markdown",
   "metadata": {},
   "source": [
    "**Questão 11: Fibonacci** Dado um número N, encontre o número de maneiras de construir uma lista de tamanho N, de tal forma que contenha apenas 1s e 0s, mas não haja dois índices consecutivos com valor 1.\n",
    "\n",
    "Exemplos:\n",
    "\n",
    "Entrada: 2\n",
    "Saída: 3\n",
    "Para n = 2, as possíveis listas são:\n",
    "```[0, 1] [1, 0] [0, 0]```\n",
    "\n",
    "Entrada: 3\n",
    "Saída: 5\n",
    "Para n = 3, as possíveis listas são:\n",
    "```[0, 0, 0] [1, 0, 0] [0, 1, 0] [0, 0, 1] [1, 0, 1]```\n",
    "\n",
    "Abordagem Ingênua:\n",
    "A abordagem de força bruta básica seria construir todas as maneiras possíveis de o array ser preenchido com 1s e 0s e, em seguida, verificar se há dois 1s consecutivos no array, se houver, não contar esses arrays.\n",
    "\n",
    "Como cada elemento tem 2 valores possíveis, 1 e 0, e há n elementos totais, o número total de matrizes sem qualquer restrição será de ordem exponencial, ou seja, $2^n$.\n",
    "\n",
    "Abordagem Eficiente:\n",
    "Se observarmos um pouco de perto, podemos perceber que há um padrão se formando na entrada e na saída. Descubra este padrão para projetar a solução para o problema dado."
   ]
  },
  {
   "cell_type": "markdown",
   "metadata": {},
   "source": [
    "**Solução:** Este problema pode ser resolvido usando a programação dinâmica. Seja $a[i]$ o número de cadeias binárias de comprimento $i$ que não contêm dois 1s consecutivos e que terminam em 0. Similarmente, seja $b[i]$ o número de cadeias que terminam em 1. Podemos acrescentar ou 0 ou 1 para uma string que termina em 0, mas só podemos acrescentar 0 a uma string que termina em 1. Isso produz a relação de recorrência:\n",
    "```\n",
    "a [i] = a [i - 1] + b [i - 1]\n",
    "b [i] = a [i - 1]\n",
    "```\n",
    "Os casos básicos de recorrência acima são $a[1] = b[1] = 1$. O número total de cadeias de comprimento $i$ é apenas $a[i] + b[i]$."
   ]
  },
  {
   "cell_type": "code",
   "execution_count": null,
   "metadata": {
    "code_folding": []
   },
   "outputs": [],
   "source": [
    "def countStrings(N): \n",
    "    a = [0 for _ in range(N)]\n",
    "    b = [0 for _ in range(N)]\n",
    "    a[0] = b[0] = 1\n",
    "    for i in range(1, N):\n",
    "        a[i] = a[i-1] + b[i-1]\n",
    "        b[i] = a[i-1]\n",
    "    return a[N-1] + b[N-1]\n",
    "  \n",
    "print(countStrings(3))\n",
    "print(countStrings(5))"
   ]
  },
  {
   "cell_type": "markdown",
   "metadata": {},
   "source": [
    "Se dermos uma olhada mais de perto no padrão, podemos observar que a contagem é na verdade o número de Fibonacci de $(n+2)$ para $n >= 1$. Os números de Fibonacci são 0, 1, 1, 2, 3, 5, 8 13, 21, 34, ...\n",
    "```\n",
    "n = 1, saída = 2 = fib (3)\n",
    "n = 2, saída = 3 = fib (4)\n",
    "n = 3, saída = 5 = fib (5)\n",
    "n = 4, saída = 8 = fib (6)\n",
    "n = 5, saída = 13 = fib (7)\n",
    "...\n",
    "```"
   ]
  },
  {
   "cell_type": "code",
   "execution_count": null,
   "metadata": {
    "code_folding": []
   },
   "outputs": [],
   "source": [
    "known = {0:0, 1:1}\n",
    "def fibonacci(n):\n",
    "    if n in known:\n",
    "        return known[n]\n",
    "    res = fibonacci(n-1) + fibonacci(n-2)\n",
    "    known[n] = res\n",
    "    return res\n",
    "\n",
    "N = int(input())\n",
    "saida = fibonacci(N+2)\n",
    "print(saida)"
   ]
  },
  {
   "cell_type": "markdown",
   "metadata": {},
   "source": [
    "**Questão 12: Merge Sort.** Com base em duas listas ordenadas de tamanho m e n, respectivamente, você tem a tarefa de encontrar o elemento que estaria na k'ésima posição da lista final ordenada."
   ]
  },
  {
   "cell_type": "code",
   "execution_count": null,
   "metadata": {
    "code_folding": [
     1
    ]
   },
   "outputs": [],
   "source": [
    "# Solução força bruta\n",
    "def kesimo(v1, v2, m, n, k):\n",
    "    sorted1 = [0] * (m + n)\n",
    "    i = 0\n",
    "    j = 0\n",
    "    d = 0\n",
    "    while (i < m and j < n):\n",
    "        if (v1[i] < v2[j]):\n",
    "            sorted1[d] = v1[i]\n",
    "            i += 1\n",
    "        else:\n",
    "            sorted1[d] = v2[j]\n",
    "            j += 1\n",
    "        d += 1\n",
    "    while (i < m):\n",
    "        sorted1[d] = v1[i]\n",
    "        d += 1\n",
    "        i += 1\n",
    "    while (j < n):\n",
    "        sorted1[d] = v2[j]\n",
    "        d += 1\n",
    "        j += 1\n",
    "    return sorted1[k - 1]\n",
    "\n",
    "# test\n",
    "v1 = [2, 3, 6, 7, 9]\n",
    "v2 = [1, 4, 8, 10]\n",
    "k = 5\n",
    "print(kesimo(v1, v2, len(v1), len(v2), k))"
   ]
  },
  {
   "cell_type": "markdown",
   "metadata": {},
   "source": [
    "Enquanto o método anterior funciona, podemos tornar nosso algoritmo mais eficiente. Usando uma abordagem de divisão e conquista, semelhante à usada na pesquisa binária, podemos tentar encontrar o késimo elemento de maneira mais eficiente.\n",
    "\n",
    "**Algoritmo:** Comparamos os elementos do meio das listas v1 e v2. Vamos chamar esses índices mid1 e mid2, respectivamente. Vamos supor que $v1[mid1] > k$, então claramente os elementos após mid2 não podem ser o elemento requerido. Em seguida, definimos o último elemento de v2 para ser $v2[mid2]$. Desta forma, definimos um novo subproblema com metade do tamanho de uma das listas."
   ]
  },
  {
   "cell_type": "code",
   "execution_count": null,
   "metadata": {
    "code_folding": [
     2
    ]
   },
   "outputs": [],
   "source": [
    "def kesimo(v1, v2, k):\n",
    "\n",
    "    def kth(i, j, m, n, k):\n",
    "        if (i == m):\n",
    "            return v2[k]\n",
    "        if (j == n):\n",
    "            return v1[k]\n",
    "        mid1 = (m-i+1) // 2\n",
    "        mid2 = (n-j+1) // 2\n",
    "        if mid1 + mid2 < k:\n",
    "            if v1[mid1] > v2[mid2]:\n",
    "                return kth(i, j+mid2+1, m, n, k-mid2-1)\n",
    "            else:\n",
    "                return kth(i+mid1+1, j, m, n, k-mid1-1)\n",
    "        elif v1[mid1] > v2[mid2]:\n",
    "            return kth(i, j, i+mid1, n, k)\n",
    "        else:\n",
    "            return kth(i, j, m, j+mid2, k)\n",
    "\n",
    "    return kth(0, 0, len(v1)-1, len(v2)-1, k-1)\n",
    "\n",
    "\n",
    "v1 = [2, 3, 6, 7, 9]\n",
    "v2 = [1, 4, 8, 10]\n",
    "k = 5\n",
    "print(kesimo(v1, v2, k))"
   ]
  },
  {
   "cell_type": "markdown",
   "metadata": {},
   "source": [
    "**Questão 13: Divisão e Conquista (Problema do ladrilho)** Dado um tabuleiro de $n x n$ onde $n$ é da forma $2^k$ onde $k >= 1$ (Basicamente $n$ é uma potência de 2 com valor mínimo como 2). A tabuleiro tem uma célula faltando (de tamanho $1 x 1$). Encha o tabuleiro usando ladrilhos em forma de L. Um ladrilho em forma de L é um quadrado de $2 x 2$ com uma célula de tamanho $1 x 1$ em falta."
   ]
  },
  {
   "cell_type": "markdown",
   "metadata": {},
   "source": [
    "<img src=\"img/quadrado.png\" alt=\"Drawing\" style=\"width: 500px;\"/>\n",
    "\n",
    "Este problema pode ser resolvido usando Divisão e Conquista. Abaixo está o algoritmo recursivo."
   ]
  },
  {
   "cell_type": "markdown",
   "metadata": {},
   "source": [
    "// n é o tamanho do quadrado dado, p é a localização da célula faltando\n",
    "Tile (n, p)\n",
    "\n",
    "1) Caso base: n = 2, Um quadrado 2 x 2 com uma célula faltando nada mais é do que um ladrilho e pode ser preenchido com um único ladrilho.\n",
    "\n",
    "2) Coloque um ladrilho em forma de L no centro de tal forma que ele não cubra o quadrado $n/2 * n/2$ que tenha uma célula faltando. Agora, todas as quatro quadrados de tamanho $n/2 x n/2$ possuem uma célula ausente (uma célula que não precisa ser preenchida). Veja a figura abaixo.\n",
    "\n",
    "3) Resolva o problema de forma recursiva para os quatro quadrados. Sejam p1, p2, p3 e p4 posições das 4 células que faltam nos 4 quadrados.\n",
    "   a) Tile (n/2, p1)\n",
    "   b) Tile (n/2, p2)\n",
    "   c) Tile (n/2, p3)\n",
    "   d) Tile (n/2, p4)"
   ]
  },
  {
   "cell_type": "markdown",
   "metadata": {},
   "source": [
    "<img src=\"img/tiles3.png\" alt=\"Drawing\" style=\"width: 300px;\"/>\n",
    "<img src=\"img/tiles4.png\" alt=\"Drawing\" style=\"width: 300px;\"/>\n",
    "<img src=\"img/tiles5.png\" alt=\"Drawing\" style=\"width: 300px;\"/>"
   ]
  },
  {
   "cell_type": "markdown",
   "metadata": {},
   "source": [
    "Este algoritmo de Divisão and Conquista pode ser provado usando Indução Matemática.\n",
    "\n",
    "1) Faça o quadrado de entrada ser de tamanho $2^k x 2^k$ onde $k >= 1$.\n",
    "\n",
    "2) Caso Base: Sabemos que o problema pode ser resolvido para $k = 1$. Neste caso, temos um quadrado de $2 x 2$ com uma célula em falta.\n",
    "\n",
    "3) Hipótese de Indução: Suponhamos que o problema pode ser resolvido para $k-1$.\n",
    "Agora precisamos provar que o problema pode ser resolvido para k se ele puder ser resolvido para k-1. Para k, colocamos um ladrilho em forma de L no meio e temos quatro quadrados com a dimensão $2^{k-1} x 2^{k-1}$, como mostrado na figura acima. Então, se podemos resolver para os 4 quadrados, podemos resolver o quadrado completo.\n",
    "\n",
    "Referência:\n",
    "http://www.comp.nus.edu.sg/~sanjay/cs3230/dandc.pdf"
   ]
  },
  {
   "cell_type": "code",
   "execution_count": null,
   "metadata": {
    "code_folding": [
     0,
     12
    ]
   },
   "outputs": [],
   "source": [
    "def show(m):\n",
    "    n = len(m)\n",
    "    for i in range(n):\n",
    "        for j in range(n):\n",
    "            print('{:>2s}'.format(str(m[i][j])), end=\" \")\n",
    "        print()\n",
    "    print()\n",
    "\n",
    "\n",
    "def tile(m):\n",
    "    global p\n",
    "\n",
    "    def tile_helper(hx, hy, lx, ly):\n",
    "        global p\n",
    "        p += 1\n",
    "        dim = lx - hx + 1\n",
    "        if dim == 2:\n",
    "            # base case\n",
    "            for i in range(hx, lx+1):\n",
    "                for j in range(hy, ly+1):\n",
    "                    if m[i][j] == \"x\":\n",
    "                        m[i][j] = p\n",
    "        else:\n",
    "            # locate the missing tile\n",
    "            i, j = 0, 0\n",
    "            for ii in range(hx, lx+1):\n",
    "                for jj in range(hy, ly+1):\n",
    "                    if m[ii][jj] != \"x\":\n",
    "                        i, j = ii, jj\n",
    "                        break\n",
    "            # partition the grid in 4 slices\n",
    "            part = dim // 2\n",
    "            hx1, hy1 = hx, hy\n",
    "            lx1, ly1 = lx - part, ly - part\n",
    "            if hx1 <= i <= lx1 and hy1 <= j <= ly1:\n",
    "                pass\n",
    "            else:\n",
    "                m[lx1][ly1] = p\n",
    "\n",
    "            hx2, hy2 = hx, hy + part\n",
    "            lx2, ly2 = lx - part, ly\n",
    "            if hx2 <= i <= lx2 and hy2 <= j <= ly2:\n",
    "                pass\n",
    "            else:\n",
    "                m[lx2][hy2] = p\n",
    "\n",
    "            hx3, hy3 = hx + part, hy\n",
    "            lx3, ly3 = lx, ly - part\n",
    "            if hx3 <= i <= lx3 and hy3 <= j <= ly3:\n",
    "                pass\n",
    "            else:\n",
    "                m[hx3][ly3] = p\n",
    "\n",
    "            hx4, hy4 = hx + part, hy + part\n",
    "            lx4, ly4 = lx, ly\n",
    "            if hx4 <= i <= lx4 and hy4 <= j <= ly4:\n",
    "                pass\n",
    "            else:\n",
    "                m[hx4][hy4] = p\n",
    "            # call, recursively, the helper for each slice\n",
    "            tile_helper(hx1, hy1, lx1, ly1)\n",
    "            tile_helper(hx2, hy2, lx2, ly2)\n",
    "            tile_helper(hx3, hy3, lx3, ly3)\n",
    "            tile_helper(hx4, hy4, lx4, ly4)\n",
    "\n",
    "    n = len(m)\n",
    "    tile_helper(0, 0, n-1, n-1)\n",
    "\n",
    "\n",
    "p = 0\n",
    "n = int(input())\n",
    "i, j = input().split()\n",
    "i, j = int(i), int(j)\n",
    "m = [[\"x\" for _ in range(n)] for _ in range(n)]\n",
    "m[i][j] = 0\n",
    "show(m)\n",
    "tile(m)\n",
    "show(m)"
   ]
  },
  {
   "cell_type": "code",
   "execution_count": null,
   "metadata": {},
   "outputs": [],
   "source": []
  }
 ],
 "metadata": {
  "kernelspec": {
   "display_name": "Python 3 (ipykernel)",
   "language": "python",
   "name": "python3"
  },
  "language_info": {
   "codemirror_mode": {
    "name": "ipython",
    "version": 3
   },
   "file_extension": ".py",
   "mimetype": "text/x-python",
   "name": "python",
   "nbconvert_exporter": "python",
   "pygments_lexer": "ipython3",
   "version": "3.13.2"
  },
  "latex_envs": {
   "LaTeX_envs_menu_present": true,
   "autoclose": false,
   "autocomplete": true,
   "bibliofile": "biblio.bib",
   "cite_by": "apalike",
   "current_citInitial": 1,
   "eqLabelWithNumbers": true,
   "eqNumInitial": 1,
   "hotkeys": {
    "equation": "Ctrl-E",
    "itemize": "Ctrl-I"
   },
   "labels_anchors": false,
   "latex_user_defs": false,
   "report_style_numbering": false,
   "user_envs_cfg": false
  },
  "toc": {
   "nav_menu": {},
   "number_sections": true,
   "sideBar": true,
   "skip_h1_title": false,
   "toc_cell": false,
   "toc_position": {},
   "toc_section_display": "block",
   "toc_window_display": false
  }
 },
 "nbformat": 4,
 "nbformat_minor": 4
}
