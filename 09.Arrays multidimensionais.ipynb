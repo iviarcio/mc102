{
 "cells": [
  {
   "cell_type": "markdown",
   "metadata": {
    "slideshow": {
     "slide_type": "skip"
    },
    "toc": true
   },
   "source": [
    "<h1>Table of Contents<span class=\"tocSkip\"></span></h1>\n",
    "<div class=\"toc\"><ul class=\"toc-item\"><li><span><a href=\"#Arrays-multidimensionais-(Matrizes)\" data-toc-modified-id=\"Arrays-multidimensionais-(Matrizes)-1\"><span class=\"toc-item-num\">1&nbsp;&nbsp;</span>Arrays multidimensionais (Matrizes)</a></span><ul class=\"toc-item\"><li><span><a href=\"#Exercício:\" data-toc-modified-id=\"Exercício:-1.1\"><span class=\"toc-item-num\">1.1&nbsp;&nbsp;</span>Exercício:</a></span></li><li><span><a href=\"#Biblioteca-Numpy\" data-toc-modified-id=\"Biblioteca-Numpy-1.2\"><span class=\"toc-item-num\">1.2&nbsp;&nbsp;</span>Biblioteca Numpy</a></span><ul class=\"toc-item\"><li><span><a href=\"#Criação-de-Matrizes\" data-toc-modified-id=\"Criação-de-Matrizes-1.2.1\"><span class=\"toc-item-num\">1.2.1&nbsp;&nbsp;</span>Criação de Matrizes</a></span></li><li><span><a href=\"#Operações-Básicas\" data-toc-modified-id=\"Operações-Básicas-1.2.2\"><span class=\"toc-item-num\">1.2.2&nbsp;&nbsp;</span>Operações Básicas</a></span></li><li><span><a href=\"#Exercícios:\" data-toc-modified-id=\"Exercícios:-1.2.3\"><span class=\"toc-item-num\">1.2.3&nbsp;&nbsp;</span>Exercícios:</a></span></li></ul></li></ul></li></ul></div>"
   ]
  },
  {
   "cell_type": "markdown",
   "metadata": {
    "slideshow": {
     "slide_type": "slide"
    }
   },
   "source": [
    "# Arrays multidimensionais (Matrizes)\n",
    "Muitas vezes na Ciência a informação é organizada em linhas e colunas, formando\n",
    "agrupamentos retangulares denominados matrizes. Com frequência, essas matrizes\n",
    "aparecem como tabelas de dados numéricos que surgem em observações físicas, mas\n",
    "também ocorrem em vários contextos matemáticos. "
   ]
  },
  {
   "cell_type": "markdown",
   "metadata": {
    "slideshow": {
     "slide_type": "slide"
    }
   },
   "source": [
    "Por exemplo, toda informação\n",
    "necessária para resolver um sistema de equações tal como\n",
    "$$5x + y = 3\\\\ 2x - y = 4$$\n",
    "\n",
    "está encorpada na matriz\n",
    "$$\\left\\lgroup \\matrix{5 & 1 & 3\\cr 2 & -1 & 4} \\right\\rgroup$$\n",
    "\n",
    "e que a solução do sistema pode ser obtida efetuando operações apropriadas nessa\n",
    "matriz. Isto é particularmente importante no desenvolvimento de programas de\n",
    "computador para resolver sistemas de equações lineares dentre outras várias\n",
    "aplicações científicas. "
   ]
  },
  {
   "cell_type": "markdown",
   "metadata": {
    "slideshow": {
     "slide_type": "slide"
    }
   },
   "source": [
    "Nós vimos que podemos representar arrays multidimensionais em Python usando listas aninhadas.\n",
    "Para criar uma matriz de $n * m$ elementos podemos primeiro criar uma lista de $n$ elementos (por exemplo, de $n$ zeros) e, em seguida, fazer de cada um dos elementos um link para outra lista unidimensional de $m$ elementos:"
   ]
  },
  {
   "cell_type": "code",
   "execution_count": null,
   "metadata": {
    "slideshow": {
     "slide_type": "fragment"
    }
   },
   "outputs": [],
   "source": [
    "n = 3\n",
    "m = 4\n",
    "a = [0] * n\n",
    "for i in range(n):\n",
    "    a[i] = [0] * m\n",
    "print(a)"
   ]
  },
  {
   "cell_type": "markdown",
   "metadata": {
    "slideshow": {
     "slide_type": "slide"
    }
   },
   "source": [
    "Uma outra alternativa é usarmos compreensão de listas. Por exemplo, para criar um array de dimensões $d_{1} × d_{2} . . . × d_{k}$ inicialmente vazio, fazemos:\n",
    "\n",
    "$$[[[[]\\ for\\ i_{k-1}\\ in\\ range(d_{k-1})]...]\\ for\\ i_{2}\\ in\\ range(d_{2})]\\ for\\ i_{1}\\ in\\ range(d_{1})]$$"
   ]
  },
  {
   "cell_type": "markdown",
   "metadata": {
    "slideshow": {
     "slide_type": "slide"
    }
   },
   "source": [
    "Abaixo, um exemplo de um array de dimensões $3 × 4 × 5$, com todos os elementos iguais a zero:"
   ]
  },
  {
   "cell_type": "code",
   "execution_count": null,
   "metadata": {
    "slideshow": {
     "slide_type": "fragment"
    }
   },
   "outputs": [],
   "source": [
    "mat = [ [ [0 for j in range(5)] for j in range(4) ] for i in range(3) ]\n",
    "mat"
   ]
  },
  {
   "cell_type": "markdown",
   "metadata": {
    "slideshow": {
     "slide_type": "slide"
    }
   },
   "source": [
    "## Exercício:\n",
    "\n",
    "Criar um conjunto de funções para realizar as operações básicas sobre matrizes quadradas:\n",
    "\n",
    "- Soma de 2 matrizes de dimensões $n × n$.\n",
    "- Subtração de 2 matrizes de dimensões $n × n$.\n",
    "- Cálculo da transposta de uma matriz de dimensão $n × n$.\n",
    "- Multiplicação de 2 matrizes com dimensões $n × n$."
   ]
  },
  {
   "cell_type": "markdown",
   "metadata": {
    "slideshow": {
     "slide_type": "slide"
    }
   },
   "source": [
    "**Dicas**:\n",
    "\n",
    "- Na soma de matrizes quadradas, para cada posição (i,j) fazemos:\n",
    "\n",
    "$$mat_{3}[i][j] = mat_{1}[i][j] + mat_{2}[i][j]$$ \n",
    "\n",
    "- e na multiplicação de matrizes fazemos:\n",
    "\n",
    "$$mat_{3}[i][j] = \\sum_{k = 0}^{n-1} mat_{1}[i][k] * mat_{2}[k][j]$$"
   ]
  },
  {
   "cell_type": "code",
   "execution_count": null,
   "metadata": {
    "code_folding": [
     0,
     8
    ],
    "slideshow": {
     "slide_type": "slide"
    }
   },
   "outputs": [],
   "source": [
    "def transposta(n, mat1):\n",
    "    t = [[0 for col in range(n)] for row in range(n)]\n",
    "    for i in range(n):\n",
    "        for j in range(n):\n",
    "            t[i][j] = mat1[j][i]\n",
    "    return t\n",
    "\n",
    "\n",
    "def matmul(n, mat1, mat2):\n",
    "    r = [[0 for col in range(n)] for row in range(n)]\n",
    "    for i in range(n):\n",
    "        for j in range(n):\n",
    "            for k in range(n):\n",
    "                r[i][j] += mat1[i][k] * mat2[k][j]\n",
    "    return r\n",
    "\n",
    "\n",
    "matrix = [[1, 2, 3],\n",
    "          [4, 5, 6],\n",
    "          [7, 8, 9]]\n",
    "n = len(matrix)\n",
    "t = transposta(n, matrix)\n",
    "p = matmul(n, matrix, t)\n",
    "print(matrix, \"\\n\", t, \"\\n\", p)"
   ]
  },
  {
   "cell_type": "markdown",
   "metadata": {
    "slideshow": {
     "slide_type": "slide"
    }
   },
   "source": [
    "## Biblioteca Numpy"
   ]
  },
  {
   "cell_type": "markdown",
   "metadata": {
    "slideshow": {
     "slide_type": "fragment"
    }
   },
   "source": [
    "Listas não é a estrutura de dados mais adequada para operações com matrizes. Python possui uma biblioteca, chamada NumPy (Numerical Python), que contém tipos para representar vetores e matrizes juntamente com diversas operações, dentre elas operações comuns de algebra linear e transformadas de Fourier. NumPy é implementado para trazer maior eficiência do código em Python para aplicações científicas."
   ]
  },
  {
   "cell_type": "markdown",
   "metadata": {
    "slideshow": {
     "slide_type": "slide"
    }
   },
   "source": [
    "Você pode instalar o pacote Numpy via terminal (ou prompt de comando, no windows):"
   ]
  },
  {
   "cell_type": "raw",
   "metadata": {
    "slideshow": {
     "slide_type": "fragment"
    }
   },
   "source": [
    "$ pip3 install --upgrade numpy"
   ]
  },
  {
   "cell_type": "markdown",
   "metadata": {
    "slideshow": {
     "slide_type": "fragment"
    }
   },
   "source": [
    "O principal objeto de NumPy é a matriz multidimensional homogênea. É uma tabela de elementos (geralmente números), todos do mesmo tipo, indexados por uma tupla de números inteiros positivos. A tipo matriz de NumPy é chamada `ndarray`. Também é conhecido pelo alias `array`. Observe que `numpy.array` não é o mesmo que o tipo `array.array` da biblioteca padrão do Python, que apenas administra arrays unidimensionais e oferece menos funcionalidades."
   ]
  },
  {
   "cell_type": "markdown",
   "metadata": {
    "slideshow": {
     "slide_type": "slide"
    }
   },
   "source": [
    "### Criação de Matrizes\n",
    "\n",
    "Existem várias maneiras de criar arrays. Por exemplo, você pode criar uma matriz a partir de uma lista Python ou tupla regular usando a função array. O tipo da matriz resultante é deduzido do tipo de elementos nas seqüências."
   ]
  },
  {
   "cell_type": "code",
   "execution_count": null,
   "metadata": {
    "slideshow": {
     "slide_type": "fragment"
    }
   },
   "outputs": [],
   "source": [
    "import numpy as np\n",
    "a = np.array([2,3,4])\n",
    "print(a)\n",
    "\n",
    "b = np.array([1.2, 3.5, 5.1])\n",
    "print(b)\n",
    "\n",
    "c = np.array([(1.5,2,3), (4,5,6)])\n",
    "print(c)"
   ]
  },
  {
   "cell_type": "markdown",
   "metadata": {
    "slideshow": {
     "slide_type": "slide"
    }
   },
   "source": [
    "Muitas vezes, os elementos de uma matriz são originalmente desconhecidos, mas seu tamanho é conhecido. Portanto, NumPy oferece várias funções para criar arrays com conteúdo inicial, como a função `zeros` que cria uma matriz cheia de zeros, a função `ones` que cria uma matriz cheia de uns e a função `empty` cria uma matriz cujo conteúdo inicial é aleatório e depende do estado da memória."
   ]
  },
  {
   "cell_type": "code",
   "execution_count": null,
   "metadata": {
    "slideshow": {
     "slide_type": "fragment"
    }
   },
   "outputs": [],
   "source": [
    "np.zeros( (3,4) )"
   ]
  },
  {
   "cell_type": "code",
   "execution_count": null,
   "metadata": {
    "slideshow": {
     "slide_type": "fragment"
    }
   },
   "outputs": [],
   "source": [
    "np.ones( (2,3,4), dtype=np.int16 )                # dtype can also be specified"
   ]
  },
  {
   "cell_type": "code",
   "execution_count": null,
   "metadata": {
    "slideshow": {
     "slide_type": "fragment"
    }
   },
   "outputs": [],
   "source": [
    "np.empty( (2,3) )"
   ]
  },
  {
   "cell_type": "markdown",
   "metadata": {
    "slideshow": {
     "slide_type": "slide"
    }
   },
   "source": [
    "Para criar sequências de números, NumPy fornece uma função análoga ao `range` que retorna arrays em vez de listas:"
   ]
  },
  {
   "cell_type": "code",
   "execution_count": null,
   "metadata": {
    "slideshow": {
     "slide_type": "fragment"
    }
   },
   "outputs": [],
   "source": [
    "np.arange( 0, 2, 0.3 )      # it accepts float arguments"
   ]
  },
  {
   "cell_type": "markdown",
   "metadata": {
    "slideshow": {
     "slide_type": "slide"
    }
   },
   "source": [
    "Um array pode ser criado com mais do que uma dimensão utilizando as funções `arange` e `reshape`:"
   ]
  },
  {
   "cell_type": "code",
   "execution_count": null,
   "metadata": {
    "slideshow": {
     "slide_type": "fragment"
    }
   },
   "outputs": [],
   "source": [
    "a = np.arange(10).reshape(2,5)\n",
    "a"
   ]
  },
  {
   "cell_type": "code",
   "execution_count": null,
   "metadata": {
    "slideshow": {
     "slide_type": "fragment"
    }
   },
   "outputs": [],
   "source": [
    "a.reshape(5,2)"
   ]
  },
  {
   "cell_type": "markdown",
   "metadata": {
    "slideshow": {
     "slide_type": "slide"
    }
   },
   "source": [
    "### Operações Básicas"
   ]
  },
  {
   "cell_type": "markdown",
   "metadata": {
    "slideshow": {
     "slide_type": "fragment"
    }
   },
   "source": [
    "Operadores aritméticos ($*, - , + , /, **$) em matrizes aplicam-se de forma elementar. Uma nova matriz é criada e preenchida com o resultado:"
   ]
  },
  {
   "cell_type": "code",
   "execution_count": null,
   "metadata": {
    "slideshow": {
     "slide_type": "fragment"
    }
   },
   "outputs": [],
   "source": [
    "a = np.array([20, 29, 38, 47])\n",
    "a ** 2"
   ]
  },
  {
   "cell_type": "markdown",
   "metadata": {
    "slideshow": {
     "slide_type": "slide"
    }
   },
   "source": [
    "Operadores diádicos, como $+=$ e $*=$, atuam \\textit{in place} para modificar uma matriz existente em vez de criar uma nova:"
   ]
  },
  {
   "cell_type": "code",
   "execution_count": null,
   "metadata": {
    "slideshow": {
     "slide_type": "fragment"
    }
   },
   "outputs": [],
   "source": [
    "a = np.ones((2,3), dtype=int)\n",
    "a *= 3\n",
    "a"
   ]
  },
  {
   "cell_type": "markdown",
   "metadata": {
    "slideshow": {
     "slide_type": "slide"
    }
   },
   "source": [
    "Como visto e, ao contrário de muitas linguagens que operam com matrizes, o operador do produto $*$ também opera de forma elementar em matrizes numPy. A multiplicação de matrizes pode ser realizada usando a função ou método `dot`:"
   ]
  },
  {
   "cell_type": "code",
   "execution_count": null,
   "metadata": {
    "slideshow": {
     "slide_type": "fragment"
    }
   },
   "outputs": [],
   "source": [
    "A = np.array( [[1,1],\n",
    "               [0,1]] )\n",
    "B = np.array( [[2,0],\n",
    "               [3,4]] )\n",
    "A*B                         # elementwise product"
   ]
  },
  {
   "cell_type": "code",
   "execution_count": null,
   "metadata": {
    "slideshow": {
     "slide_type": "slide"
    }
   },
   "outputs": [],
   "source": [
    "A.dot(B)                    # matrix product"
   ]
  },
  {
   "cell_type": "code",
   "execution_count": null,
   "metadata": {
    "slideshow": {
     "slide_type": "fragment"
    }
   },
   "outputs": [],
   "source": [
    "np.dot(A, B)                # another matrix product"
   ]
  },
  {
   "cell_type": "markdown",
   "metadata": {
    "slideshow": {
     "slide_type": "slide"
    }
   },
   "source": [
    "NumPy oferece operações de algebra linear no pacote `linalg`. Por exemplo, a função `inv` calcula a inversa de uma matriz:"
   ]
  },
  {
   "cell_type": "code",
   "execution_count": null,
   "metadata": {
    "slideshow": {
     "slide_type": "fragment"
    }
   },
   "outputs": [],
   "source": [
    "from numpy import *\n",
    "from numpy.linalg import inv\n",
    "a = array([[2, 7, 2], [0,1, 3], [1,0,2]])\n",
    "b = inv(a)\n",
    "b"
   ]
  },
  {
   "cell_type": "markdown",
   "metadata": {
    "slideshow": {
     "slide_type": "slide"
    }
   },
   "source": [
    "Na biblioteca existe uma variedade de outras funções, por exemplo, para calcular autovalores e autovetores, resolução de um sistema de equações lineares, etc. Para mais informações, consulte a pagina web: http://www.numpy.org/"
   ]
  },
  {
   "cell_type": "markdown",
   "metadata": {
    "slideshow": {
     "slide_type": "slide"
    }
   },
   "source": [
    "### Exercícios:\n",
    "\n",
    "a. Considere o vetor [1, 2, 3, 4, 5]. Construa um novo vetor com 3 zeros consecutivos intercalados entre cada valor.\n",
    "\n",
    "\n",
    "b. Dadas duas matrizes $A$ e $B$ de $n * n$, obter a soma dos elementos que corresponde à  diagonal de $A.dot(B)$ por dois métodos diferentes."
   ]
  },
  {
   "cell_type": "code",
   "execution_count": null,
   "metadata": {
    "code_folding": [
     0
    ],
    "slideshow": {
     "slide_type": "fragment"
    }
   },
   "outputs": [],
   "source": [
    "# Solução Exercicio b. Método 1.\n",
    "A = np.arange(9).reshape(3,3)\n",
    "B = A.copy()\n",
    "np.diag(np.dot(A, B))"
   ]
  },
  {
   "cell_type": "code",
   "execution_count": null,
   "metadata": {
    "code_folding": [
     0
    ],
    "slideshow": {
     "slide_type": "fragment"
    }
   },
   "outputs": [],
   "source": [
    "# Solução Exercicio b. Método 2.\n",
    "np.sum(A * B.T, axis=1)"
   ]
  }
 ],
 "metadata": {
  "celltoolbar": "Slideshow",
  "kernelspec": {
   "display_name": "Python 3 (ipykernel)",
   "language": "python",
   "name": "python3"
  },
  "language_info": {
   "codemirror_mode": {
    "name": "ipython",
    "version": 3
   },
   "file_extension": ".py",
   "mimetype": "text/x-python",
   "name": "python",
   "nbconvert_exporter": "python",
   "pygments_lexer": "ipython3",
   "version": "3.13.2"
  },
  "latex_envs": {
   "LaTeX_envs_menu_present": true,
   "autoclose": false,
   "autocomplete": true,
   "bibliofile": "biblio.bib",
   "cite_by": "apalike",
   "current_citInitial": 1,
   "eqLabelWithNumbers": true,
   "eqNumInitial": 1,
   "hotkeys": {
    "equation": "Ctrl-E",
    "itemize": "Ctrl-I"
   },
   "labels_anchors": false,
   "latex_user_defs": false,
   "report_style_numbering": false,
   "user_envs_cfg": false
  },
  "livereveal": {
   "theme": "solarized",
   "transition": "slide"
  },
  "toc": {
   "base_numbering": 1,
   "nav_menu": {},
   "number_sections": true,
   "sideBar": true,
   "skip_h1_title": false,
   "title_cell": "Table of Contents",
   "title_sidebar": "Contents",
   "toc_cell": true,
   "toc_position": {},
   "toc_section_display": "block",
   "toc_window_display": false
  }
 },
 "nbformat": 4,
 "nbformat_minor": 4
}
