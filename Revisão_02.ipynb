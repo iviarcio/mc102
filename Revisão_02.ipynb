{
 "cells": [
  {
   "cell_type": "markdown",
   "metadata": {},
   "source": [
    "# Exercícios de Revisão 2"
   ]
  },
  {
   "cell_type": "markdown",
   "metadata": {},
   "source": [
    "**Questão 01: Quadrado mágico.** Um quadrado mágico é aquele dividido em linhas e colunas, com um número em cada posição e no qual a soma das linhas, colunas e diagonais é a mesma. Por exemplo, veja um quadrado mágico de lado 3, com números de 1 a 9:\n",
    "```\n",
    "8  3  4 \n",
    "1  5  9\n",
    "6  7  2\n",
    "```\n",
    "Elabore uma função que identifica e mostra na tela todos os quadrados mágicos com as características acima. Dica: produza todas as combinações possíveis e verifique a soma quando completar cada quadrado."
   ]
  },
  {
   "cell_type": "code",
   "execution_count": null,
   "metadata": {},
   "outputs": [],
   "source": []
  },
  {
   "cell_type": "markdown",
   "metadata": {},
   "source": [
    "**Questão 02: Removendo elementos duplicados.**  Escreva a função remove_repetidos que recebe como parâmetro uma lista com números inteiros, verifica se tal lista possui elementos repetidos e os remove. A função deve devolver uma lista correspondente à primeira lista, sem elementos repetidos. A lista devolvida deve estar ordenada."
   ]
  },
  {
   "cell_type": "code",
   "execution_count": null,
   "metadata": {},
   "outputs": [],
   "source": []
  },
  {
   "cell_type": "markdown",
   "metadata": {},
   "source": [
    "**Questaão 03: Remoção preservando a ordem.** Escreva uma função que remove os elementos repetidos de uma lista de números inteiros, porém preservando a ordem da lista."
   ]
  },
  {
   "cell_type": "code",
   "execution_count": null,
   "metadata": {},
   "outputs": [],
   "source": []
  },
  {
   "cell_type": "markdown",
   "metadata": {},
   "source": [
    "**Questão 04: Números Triangulares** Dizemos que um número natural é triangular se ele é produto de três números naturais consecutivos. Por exemplo: 120 é triangular, pois 4$*$5$*$6 = 120. 2730 é triangular, pois 13$*$14$*$15 = 2730. Dado um inteiro não-negativo $n$, crie uma função para veriﬁcar se $n$ é triangular. Deve-se devolver True se o número for triangular, caso contrário False."
   ]
  },
  {
   "cell_type": "code",
   "execution_count": null,
   "metadata": {},
   "outputs": [],
   "source": []
  },
  {
   "cell_type": "markdown",
   "metadata": {},
   "source": [
    "**Questão 05: Matrizes Similares** Crie uma função que permita veriﬁcar se duas (2) matrizes, dadas como parâmetros, são similares. Dois valores x, e y são similares se $abs(x-y) <= d$, onde d é a distancia fornecida."
   ]
  },
  {
   "cell_type": "code",
   "execution_count": null,
   "metadata": {},
   "outputs": [],
   "source": []
  },
  {
   "cell_type": "markdown",
   "metadata": {},
   "source": [
    "**Questão 06: Normalização.** Considere A uma matriz. A normalização de uma matriz é realizada, dividindo cada elemento da matriz A pelo maior elemento da linha correspondente. Crie uma função que permita normalizar uma matriz de números inteiros dada como parâmetro."
   ]
  },
  {
   "cell_type": "code",
   "execution_count": null,
   "metadata": {},
   "outputs": [],
   "source": []
  },
  {
   "cell_type": "markdown",
   "metadata": {},
   "source": [
    "**Questão 07: Transposta.** A transposição de uma matriz é uma tarefa que todos nós podemos executar muito facilmente em python (usando um laços aninhados). Mas existem algumas maneiras interessantes de fazer o mesmo em uma única linha de código. Implemente a transposição de uma matriz $n x m$ usando (1) compreensão de listas e (2) a função zip."
   ]
  },
  {
   "cell_type": "code",
   "execution_count": null,
   "metadata": {},
   "outputs": [],
   "source": []
  },
  {
   "cell_type": "markdown",
   "metadata": {},
   "source": [
    "**Questão 08: Recursão básica.** Crie uma função recursiva que permita somar todos os números naturais no intervalo até $n$, $n$ dado como entrada."
   ]
  },
  {
   "cell_type": "code",
   "execution_count": null,
   "metadata": {},
   "outputs": [],
   "source": []
  },
  {
   "cell_type": "markdown",
   "metadata": {},
   "source": [
    "**Questão 09: Recursão** Indique que resultado apresentará a execução da seguinte função. Considere como parâmetro de entrada a frase \"unicamp\". O que faz a função? \n",
    "```\n",
    "def funcaoR(frase):\n",
    "    if len(frase) == 1:\n",
    "        return frase\n",
    "    else:\n",
    "        return funcaoR(frase[1:]) + frase[0]\n",
    "```"
   ]
  },
  {
   "cell_type": "code",
   "execution_count": null,
   "metadata": {},
   "outputs": [],
   "source": []
  },
  {
   "cell_type": "markdown",
   "metadata": {},
   "source": [
    "**Questão 10: Binomial.** Escreva uma função recursiva que calcule o binomial (n,k). Observe que:\n",
    "\n",
    "$\\binom{n}{k} = \\frac{n!}{k!(n-k)!}$\n"
   ]
  },
  {
   "cell_type": "code",
   "execution_count": null,
   "metadata": {},
   "outputs": [],
   "source": []
  },
  {
   "cell_type": "markdown",
   "metadata": {},
   "source": [
    "**Questão 11: Fibonacci** Dado um número N, encontre o número de maneiras de construir uma lista de tamanho N, de tal forma que contenha apenas 1s e 0s, mas não haja dois índices consecutivos com valor 1.\n",
    "\n",
    "Exemplos:\n",
    "\n",
    "Entrada: 2\n",
    "Saída: 3\n",
    "Para n = 2, as possíveis listas são:\n",
    "```[0, 1] [1, 0] [0, 0]```\n",
    "\n",
    "Entrada: 3\n",
    "Saída: 5\n",
    "Para n = 3, as possíveis listas são:\n",
    "```[0, 0, 0] [1, 0, 0] [0, 1, 0] [0, 0, 1] [1, 0, 1]```\n",
    "\n",
    "Abordagem Ingênua:\n",
    "A abordagem de força bruta básica seria construir todas as maneiras possíveis de o array ser preenchido com 1s e 0s e, em seguida, verificar se há dois 1s consecutivos no array, se houver, não contar esses arrays.\n",
    "\n",
    "Como cada elemento tem 2 valores possíveis, 1 e 0, e há n elementos totais, o número total de matrizes sem qualquer restrição será de ordem exponencial, ou seja, $2^n$.\n",
    "\n",
    "Abordagem Eficiente:\n",
    "Se observarmos um pouco de perto, podemos perceber que há um padrão se formando na entrada e na saída. Descubra este padrão para projetar a solução para o problema dado."
   ]
  },
  {
   "cell_type": "code",
   "execution_count": null,
   "metadata": {},
   "outputs": [],
   "source": []
  },
  {
   "cell_type": "markdown",
   "metadata": {},
   "source": [
    "**Questão 12: Merge Sort.** Com base em duas listas ordenadas de tamanho m e n, respectivamente, você tem a tarefa de encontrar o elemento que estaria na k'ésima posição da lista final ordenada."
   ]
  },
  {
   "cell_type": "code",
   "execution_count": null,
   "metadata": {},
   "outputs": [],
   "source": []
  },
  {
   "cell_type": "markdown",
   "metadata": {},
   "source": [
    "**Questão 13: Divisão e Conquista (Problema do ladrilho)** Dado um tabuleiro de $n x n$ onde $n$ é da forma $2^k$ onde $k >= 1$ (Basicamente $n$ é uma potência de 2 com valor mínimo como 2). A tabuleiro tem uma célula faltando (de tamanho $1 x 1$). Encha o tabuleiro usando ladrilhos em forma de L. Um ladrilho em forma de L é um quadrado de $2 x 2$ com uma célula de tamanho $1 x 1$ em falta."
   ]
  },
  {
   "cell_type": "markdown",
   "metadata": {},
   "source": [
    "<img src=\"img/quadrado.png\" alt=\"Drawing\" style=\"width: 500px;\"/>\n",
    "\n",
    "Este problema pode ser resolvido usando Divisão e Conquista. Abaixo está o algoritmo recursivo."
   ]
  },
  {
   "cell_type": "markdown",
   "metadata": {},
   "source": [
    "// n é o tamanho do quadrado dado, p é a localização da célula faltando\n",
    "Tile (n, p)\n",
    "\n",
    "1) Caso base: n = 2, Um quadrado 2 x 2 com uma célula faltando nada mais é do que um ladrilho e pode ser preenchido com um único ladrilho.\n",
    "\n",
    "2) Coloque um ladrilho em forma de L no centro de tal forma que ele não cubra o quadrado $n/2 * n/2$ que tenha uma célula faltando. Agora, todas as quatro quadrados de tamanho $n/2 x n/2$ possuem uma célula ausente (uma célula que não precisa ser preenchida). Veja a figura abaixo.\n",
    "\n",
    "3) Resolva o problema de forma recursiva para os quatro quadrados. Sejam p1, p2, p3 e p4 posições das 4 células que faltam nos 4 quadrados.\n",
    "   a) Tile (n/2, p1)\n",
    "   b) Tile (n/2, p2)\n",
    "   c) Tile (n/2, p3)\n",
    "   d) Tile (n/2, p4)"
   ]
  },
  {
   "cell_type": "markdown",
   "metadata": {},
   "source": [
    "<img src=\"img/tiles3.png\" alt=\"Drawing\" style=\"width: 300px;\"/>\n",
    "<img src=\"img/tiles4.png\" alt=\"Drawing\" style=\"width: 300px;\"/>\n",
    "<img src=\"img/tiles5.png\" alt=\"Drawing\" style=\"width: 300px;\"/>"
   ]
  },
  {
   "cell_type": "markdown",
   "metadata": {},
   "source": [
    "Este algoritmo de Divisão and Conquista pode ser provado usando Indução Matemática.\n",
    "\n",
    "1) Faça o quadrado de entrada ser de tamanho $2^k x 2^k$ onde $k >= 1$.\n",
    "\n",
    "2) Caso Base: Sabemos que o problema pode ser resolvido para $k = 1$. Neste caso, temos um quadrado de $2 x 2$ com uma célula em falta.\n",
    "\n",
    "3) Hipótese de Indução: Suponhamos que o problema pode ser resolvido para $k-1$.\n",
    "Agora precisamos provar que o problema pode ser resolvido para k se ele puder ser resolvido para k-1. Para k, colocamos um ladrilho em forma de L no meio e temos quatro quadrados com a dimensão $2^{k-1} x 2^{k-1}$, como mostrado na figura acima. Então, se podemos resolver para os 4 quadrados, podemos resolver o quadrado completo.\n",
    "\n",
    "Referência:\n",
    "http://www.comp.nus.edu.sg/~sanjay/cs3230/dandc.pdf"
   ]
  },
  {
   "cell_type": "code",
   "execution_count": null,
   "metadata": {},
   "outputs": [],
   "source": []
  }
 ],
 "metadata": {
  "kernelspec": {
   "display_name": "Python 3 (ipykernel)",
   "language": "python",
   "name": "python3"
  },
  "language_info": {
   "codemirror_mode": {
    "name": "ipython",
    "version": 3
   },
   "file_extension": ".py",
   "mimetype": "text/x-python",
   "name": "python",
   "nbconvert_exporter": "python",
   "pygments_lexer": "ipython3",
   "version": "3.13.2"
  },
  "latex_envs": {
   "LaTeX_envs_menu_present": true,
   "autoclose": false,
   "autocomplete": true,
   "bibliofile": "biblio.bib",
   "cite_by": "apalike",
   "current_citInitial": 1,
   "eqLabelWithNumbers": true,
   "eqNumInitial": 1,
   "hotkeys": {
    "equation": "Ctrl-E",
    "itemize": "Ctrl-I"
   },
   "labels_anchors": false,
   "latex_user_defs": false,
   "report_style_numbering": false,
   "user_envs_cfg": false
  },
  "toc": {
   "nav_menu": {},
   "number_sections": true,
   "sideBar": true,
   "skip_h1_title": false,
   "toc_cell": false,
   "toc_position": {},
   "toc_section_display": "block",
   "toc_window_display": false
  }
 },
 "nbformat": 4,
 "nbformat_minor": 4
}
